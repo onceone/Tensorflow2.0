{
 "cells": [
  {
   "cell_type": "code",
   "execution_count": 1,
   "metadata": {},
   "outputs": [
    {
     "name": "stderr",
     "output_type": "stream",
     "text": [
      "F:\\public\\anconda\\envs\\tf13\\lib\\site-packages\\tensorflow\\python\\framework\\dtypes.py:526: FutureWarning: Passing (type, 1) or '1type' as a synonym of type is deprecated; in a future version of numpy, it will be understood as (type, (1,)) / '(1,)type'.\n",
      "  _np_qint8 = np.dtype([(\"qint8\", np.int8, 1)])\n",
      "F:\\public\\anconda\\envs\\tf13\\lib\\site-packages\\tensorflow\\python\\framework\\dtypes.py:527: FutureWarning: Passing (type, 1) or '1type' as a synonym of type is deprecated; in a future version of numpy, it will be understood as (type, (1,)) / '(1,)type'.\n",
      "  _np_quint8 = np.dtype([(\"quint8\", np.uint8, 1)])\n",
      "F:\\public\\anconda\\envs\\tf13\\lib\\site-packages\\tensorflow\\python\\framework\\dtypes.py:528: FutureWarning: Passing (type, 1) or '1type' as a synonym of type is deprecated; in a future version of numpy, it will be understood as (type, (1,)) / '(1,)type'.\n",
      "  _np_qint16 = np.dtype([(\"qint16\", np.int16, 1)])\n",
      "F:\\public\\anconda\\envs\\tf13\\lib\\site-packages\\tensorflow\\python\\framework\\dtypes.py:529: FutureWarning: Passing (type, 1) or '1type' as a synonym of type is deprecated; in a future version of numpy, it will be understood as (type, (1,)) / '(1,)type'.\n",
      "  _np_quint16 = np.dtype([(\"quint16\", np.uint16, 1)])\n",
      "F:\\public\\anconda\\envs\\tf13\\lib\\site-packages\\tensorflow\\python\\framework\\dtypes.py:530: FutureWarning: Passing (type, 1) or '1type' as a synonym of type is deprecated; in a future version of numpy, it will be understood as (type, (1,)) / '(1,)type'.\n",
      "  _np_qint32 = np.dtype([(\"qint32\", np.int32, 1)])\n",
      "F:\\public\\anconda\\envs\\tf13\\lib\\site-packages\\tensorflow\\python\\framework\\dtypes.py:535: FutureWarning: Passing (type, 1) or '1type' as a synonym of type is deprecated; in a future version of numpy, it will be understood as (type, (1,)) / '(1,)type'.\n",
      "  np_resource = np.dtype([(\"resource\", np.ubyte, 1)])\n"
     ]
    },
    {
     "name": "stdout",
     "output_type": "stream",
     "text": [
      "1.13.1\n",
      "sys.version_info(major=3, minor=7, micro=6, releaselevel='final', serial=0)\n",
      "matplotlib 3.0.3\n",
      "numpy 1.18.1\n",
      "pandas 0.24.2\n",
      "sklearn 0.22.1\n",
      "tensorflow 1.13.1\n",
      "tensorflow._api.v1.keras 2.2.4-tf\n"
     ]
    }
   ],
   "source": [
    "import matplotlib as mpl\n",
    "import matplotlib.pyplot as plt\n",
    "%matplotlib inline\n",
    "import numpy as np\n",
    "import sklearn\n",
    "import pandas as pd\n",
    "import os\n",
    "import sys\n",
    "import time\n",
    "import tensorflow as tf\n",
    "from tensorflow import keras\n",
    "\n",
    "print(tf.__version__)\n",
    "print(sys.version_info)\n",
    "for module in mpl,np,pd,sklearn,tf,keras:\n",
    "    print(module.__name__,module.__version__)"
   ]
  },
  {
   "cell_type": "code",
   "execution_count": 2,
   "metadata": {},
   "outputs": [
    {
     "name": "stdout",
     "output_type": "stream",
     "text": [
      "(5000, 28, 28) (5000,)\n",
      "(55000, 28, 28) (55000,)\n",
      "(10000, 28, 28) (10000,)\n"
     ]
    }
   ],
   "source": [
    "fashion_mnist = keras.datasets.fashion_mnist\n",
    "# print(fashion_mnist)\n",
    "(x_train_all,y_train_all),(x_test,y_test) = fashion_mnist.load_data()\n",
    "x_valid,x_train = x_train_all[:5000],x_train_all[5000:]\n",
    "y_valid,y_train = y_train_all[:5000],y_train_all[5000:]\n",
    "# 打印格式\n",
    "print(x_valid.shape,y_valid.shape)\n",
    "print(x_train.shape,y_train.shape)\n",
    "print(x_test.shape,y_test.shape)\n"
   ]
  },
  {
   "cell_type": "code",
   "execution_count": 3,
   "metadata": {},
   "outputs": [
    {
     "name": "stdout",
     "output_type": "stream",
     "text": [
      "255 0\n"
     ]
    }
   ],
   "source": [
    "print(np.max(x_train),np.min(x_train))"
   ]
  },
  {
   "cell_type": "code",
   "execution_count": 4,
   "metadata": {},
   "outputs": [],
   "source": [
    "# 数据归一化\n",
    "from sklearn.preprocessing import StandardScaler\n",
    "\n",
    "scaler = StandardScaler()\n",
    "# x_train:[None,28,28] -> [None,784]\n",
    "x_train_scaled = scaler.fit_transform(x_train.astype(np.float32).reshape(-1,1)).reshape(-1,28*28)\n",
    "x_valid_scaled = scaler.transform(x_valid.astype(np.float32).reshape(-1,1)).reshape(-1,28*28)\n",
    "x_test_scaled = scaler.transform(x_test.astype(np.float32).reshape(-1,1)).reshape(-1,28*28)\n",
    "\n",
    "# 更改数据类型\n",
    "y_train = np.asarray(y_train,dtype=np.int64)\n",
    "y_valid = np.asarray(y_valid,dtype=np.int64)\n",
    "y_test = np.asarray(y_test,dtype=np.int64)"
   ]
  },
  {
   "cell_type": "code",
   "execution_count": 5,
   "metadata": {},
   "outputs": [
    {
     "name": "stdout",
     "output_type": "stream",
     "text": [
      "2.0231433 -0.8105136\n"
     ]
    }
   ],
   "source": [
    "print(np.max(x_train_scaled),np.min(x_train_scaled))"
   ]
  },
  {
   "cell_type": "code",
   "execution_count": 6,
   "metadata": {},
   "outputs": [],
   "source": [
    "# 创建dataset\n",
    "def make_dataset(images,labels,epochs,batch_size,shuffle=True):\n",
    "    dataset = tf.data.Dataset.from_tensor_slices((images,labels))\n",
    "    if shuffle:\n",
    "        dataset = dataset.shuffle(10000)\n",
    "        dataset = dataset.repeat(epochs).batch(batch_size)\n",
    "    return dataset"
   ]
  },
  {
   "cell_type": "code",
   "execution_count": 7,
   "metadata": {},
   "outputs": [
    {
     "ename": "RuntimeError",
     "evalue": "dataset.__iter__() is only supported when eager execution is enabled.",
     "output_type": "error",
     "traceback": [
      "\u001b[1;31m---------------------------------------------------------------------------\u001b[0m",
      "\u001b[1;31mRuntimeError\u001b[0m                              Traceback (most recent call last)",
      "\u001b[1;32m<ipython-input-7-ee2a058b560e>\u001b[0m in \u001b[0;36m<module>\u001b[1;34m\u001b[0m\n\u001b[0;32m      2\u001b[0m \u001b[0mepochs\u001b[0m \u001b[1;33m=\u001b[0m \u001b[1;36m10\u001b[0m\u001b[1;33m\u001b[0m\u001b[1;33m\u001b[0m\u001b[0m\n\u001b[0;32m      3\u001b[0m \u001b[0mdataset\u001b[0m \u001b[1;33m=\u001b[0m \u001b[0mmake_dataset\u001b[0m\u001b[1;33m(\u001b[0m\u001b[0mx_train_scaled\u001b[0m\u001b[1;33m,\u001b[0m\u001b[0my_train\u001b[0m\u001b[1;33m,\u001b[0m\u001b[0mepochs\u001b[0m\u001b[1;33m=\u001b[0m\u001b[0mepochs\u001b[0m\u001b[1;33m,\u001b[0m\u001b[0mbatch_size\u001b[0m\u001b[1;33m=\u001b[0m\u001b[0mbatch_size\u001b[0m\u001b[1;33m)\u001b[0m\u001b[1;33m\u001b[0m\u001b[1;33m\u001b[0m\u001b[0m\n\u001b[1;32m----> 4\u001b[1;33m \u001b[1;32mfor\u001b[0m \u001b[0mdata\u001b[0m\u001b[1;33m,\u001b[0m\u001b[0mlabel\u001b[0m \u001b[1;32min\u001b[0m \u001b[0mdataset\u001b[0m\u001b[1;33m.\u001b[0m\u001b[0mtake\u001b[0m\u001b[1;33m(\u001b[0m\u001b[1;36m1\u001b[0m\u001b[1;33m)\u001b[0m\u001b[1;33m:\u001b[0m\u001b[1;33m\u001b[0m\u001b[1;33m\u001b[0m\u001b[0m\n\u001b[0m\u001b[0;32m      5\u001b[0m     \u001b[0mprint\u001b[0m\u001b[1;33m(\u001b[0m\u001b[0mdata\u001b[0m\u001b[1;33m)\u001b[0m\u001b[1;33m\u001b[0m\u001b[1;33m\u001b[0m\u001b[0m\n\u001b[0;32m      6\u001b[0m     \u001b[0mprint\u001b[0m\u001b[1;33m(\u001b[0m\u001b[0mlabel\u001b[0m\u001b[1;33m)\u001b[0m\u001b[1;33m\u001b[0m\u001b[1;33m\u001b[0m\u001b[0m\n",
      "\u001b[1;32mF:\\public\\anconda\\envs\\tf13\\lib\\site-packages\\tensorflow\\python\\data\\ops\\dataset_ops.py\u001b[0m in \u001b[0;36m__iter__\u001b[1;34m(self)\u001b[0m\n\u001b[0;32m   1644\u001b[0m \u001b[1;33m\u001b[0m\u001b[0m\n\u001b[0;32m   1645\u001b[0m   \u001b[1;32mdef\u001b[0m \u001b[0m__iter__\u001b[0m\u001b[1;33m(\u001b[0m\u001b[0mself\u001b[0m\u001b[1;33m)\u001b[0m\u001b[1;33m:\u001b[0m\u001b[1;33m\u001b[0m\u001b[1;33m\u001b[0m\u001b[0m\n\u001b[1;32m-> 1646\u001b[1;33m     \u001b[1;32mreturn\u001b[0m \u001b[0miter\u001b[0m\u001b[1;33m(\u001b[0m\u001b[0mself\u001b[0m\u001b[1;33m.\u001b[0m\u001b[0m_dataset\u001b[0m\u001b[1;33m)\u001b[0m\u001b[1;33m\u001b[0m\u001b[1;33m\u001b[0m\u001b[0m\n\u001b[0m\u001b[0;32m   1647\u001b[0m \u001b[1;33m\u001b[0m\u001b[0m\n\u001b[0;32m   1648\u001b[0m \u001b[1;33m\u001b[0m\u001b[0m\n",
      "\u001b[1;32mF:\\public\\anconda\\envs\\tf13\\lib\\site-packages\\tensorflow\\python\\data\\ops\\dataset_ops.py\u001b[0m in \u001b[0;36m__iter__\u001b[1;34m(self)\u001b[0m\n\u001b[0;32m    204\u001b[0m       \u001b[1;32mreturn\u001b[0m \u001b[0miterator_ops\u001b[0m\u001b[1;33m.\u001b[0m\u001b[0mEagerIterator\u001b[0m\u001b[1;33m(\u001b[0m\u001b[0mself\u001b[0m\u001b[1;33m)\u001b[0m\u001b[1;33m\u001b[0m\u001b[1;33m\u001b[0m\u001b[0m\n\u001b[0;32m    205\u001b[0m     \u001b[1;32melse\u001b[0m\u001b[1;33m:\u001b[0m\u001b[1;33m\u001b[0m\u001b[1;33m\u001b[0m\u001b[0m\n\u001b[1;32m--> 206\u001b[1;33m       raise RuntimeError(\"dataset.__iter__() is only supported when eager \"\n\u001b[0m\u001b[0;32m    207\u001b[0m                          \"execution is enabled.\")\n\u001b[0;32m    208\u001b[0m \u001b[1;33m\u001b[0m\u001b[0m\n",
      "\u001b[1;31mRuntimeError\u001b[0m: dataset.__iter__() is only supported when eager execution is enabled."
     ]
    }
   ],
   "source": [
    "batch_size = 20\n",
    "epochs = 10\n",
    "dataset = make_dataset(x_train_scaled,y_train,epochs=epochs,batch_size=batch_size)\n",
    "for data,label in dataset.take(1):\n",
    "    print(data)\n",
    "    print(label)"
   ]
  },
  {
   "cell_type": "code",
   "execution_count": 8,
   "metadata": {},
   "outputs": [
    {
     "name": "stdout",
     "output_type": "stream",
     "text": [
      "(20, 784)\n",
      "(20,)\n"
     ]
    }
   ],
   "source": [
    "batch_size = 20\n",
    "epochs = 10\n",
    "dataset = make_dataset(x_train_scaled,y_train,epochs=epochs,batch_size=batch_size)\n",
    "\n",
    "# 1. auto initialization\n",
    "# 2. can't be re-initalized. make_initializable_iterator\n",
    "\n",
    "dataset_iter = dataset.make_one_shot_iterator()\n",
    "x,y = dataset_iter.get_next()\n",
    "with tf.Session() as sess:\n",
    "    x_val,y_val = sess.run([x,y])\n",
    "    print(x_val.shape)\n",
    "    print(y_val.shape)\n"
   ]
  },
  {
   "cell_type": "code",
   "execution_count": 9,
   "metadata": {},
   "outputs": [
    {
     "name": "stdout",
     "output_type": "stream",
     "text": [
      "WARNING:tensorflow:From <ipython-input-9-a1c46b492258>:9: dense (from tensorflow.python.layers.core) is deprecated and will be removed in a future version.\n",
      "Instructions for updating:\n",
      "Use keras.layers.dense instead.\n",
      "WARNING:tensorflow:From F:\\public\\anconda\\envs\\tf13\\lib\\site-packages\\tensorflow\\python\\framework\\op_def_library.py:263: colocate_with (from tensorflow.python.framework.ops) is deprecated and will be removed in a future version.\n",
      "Instructions for updating:\n",
      "Colocations handled automatically by placer.\n",
      "WARNING:tensorflow:From F:\\public\\anconda\\envs\\tf13\\lib\\site-packages\\tensorflow\\python\\ops\\losses\\losses_impl.py:209: to_float (from tensorflow.python.ops.math_ops) is deprecated and will be removed in a future version.\n",
      "Instructions for updating:\n",
      "Use tf.cast instead.\n"
     ]
    }
   ],
   "source": [
    "hidden_units = [100,100]\n",
    "class_num = 10\n",
    "\n",
    "# x = tf.placeholder(tf.float32,[None,28*28])\n",
    "# y = tf.placeholder(tf.int64,[None])\n",
    "# 隐藏层\n",
    "input_for_next_layer = x\n",
    "for hidden_unit in hidden_units:\n",
    "    input_for_next_layer = tf.layers.dense(input_for_next_layer,hidden_unit,activation=tf.nn.relu)\n",
    "\n",
    "# 输出层\n",
    "logits = tf.layers.dense(input_for_next_layer,class_num)\n",
    "# last_hidden_output * w(logits) -> softmax -> pro\n",
    "# 1. logit -> softmax -> prob\n",
    "# 2. labels -> ont_hot\n",
    "# 3. calculate cross entropy\n",
    "loss = tf.losses.sparse_softmax_cross_entropy(labels=y,logits=logits)\n",
    "\n",
    "# get accuracy\n",
    "prediction = tf.argmax(logits,1)\n",
    "correct_prediction = tf.equal(prediction,y)\n",
    "accuracy = tf.reduce_mean(tf.cast(correct_prediction,tf.float64))\n",
    "\n",
    "# 训练\n",
    "train_op = tf.train.AdamOptimizer(1e-3).minimize(loss)"
   ]
  },
  {
   "cell_type": "code",
   "execution_count": 10,
   "metadata": {},
   "outputs": [
    {
     "name": "stdout",
     "output_type": "stream",
     "text": [
      "Tensor(\"IteratorGetNext:0\", shape=(?, 784), dtype=float32)\n",
      "Tensor(\"dense_2/BiasAdd:0\", shape=(?, 10), dtype=float32)\n"
     ]
    }
   ],
   "source": [
    "print(x)\n",
    "print(logits)"
   ]
  },
  {
   "cell_type": "code",
   "execution_count": 11,
   "metadata": {},
   "outputs": [
    {
     "data": {
      "text/plain": [
       "(55000, 28, 28)"
      ]
     },
     "execution_count": 11,
     "metadata": {},
     "output_type": "execute_result"
    }
   ],
   "source": [
    "x_train.shape"
   ]
  },
  {
   "cell_type": "code",
   "execution_count": 12,
   "metadata": {},
   "outputs": [
    {
     "name": "stdout",
     "output_type": "stream",
     "text": [
      "\r",
      "[Train] epoch: 0,step: 0,loss:2.85134,accuracy: 0.00\r",
      "[Train] epoch: 0,step: 1,loss:2.60435,accuracy: 0.00\r",
      "[Train] epoch: 0,step: 2,loss:2.51602,accuracy: 0.15\r",
      "[Train] epoch: 0,step: 3,loss:2.41391,accuracy: 0.10\r",
      "[Train] epoch: 0,step: 4,loss:1.92476,accuracy: 0.35\r",
      "[Train] epoch: 0,step: 5,loss:1.71658,accuracy: 0.60\r",
      "[Train] epoch: 0,step: 6,loss:1.61497,accuracy: 0.45\r",
      "[Train] epoch: 0,step: 7,loss:1.77817,accuracy: 0.35\r",
      "[Train] epoch: 0,step: 8,loss:1.37215,accuracy: 0.65\r",
      "[Train] epoch: 0,step: 9,loss:1.46876,accuracy: 0.60\r",
      "[Train] epoch: 0,step: 10,loss:1.26439,accuracy: 0.60\r",
      "[Train] epoch: 0,step: 11,loss:0.97964,accuracy: 0.75\r",
      "[Train] epoch: 0,step: 12,loss:1.12372,accuracy: 0.65\r",
      "[Train] epoch: 0,step: 13,loss:1.29178,accuracy: 0.60\r",
      "[Train] epoch: 0,step: 14,loss:1.06558,accuracy: 0.55\r",
      "[Train] epoch: 0,step: 15,loss:1.00185,accuracy: 0.70\r",
      "[Train] epoch: 0,step: 16,loss:1.16855,accuracy: 0.50\r",
      "[Train] epoch: 0,step: 17,loss:1.27826,accuracy: 0.35\r",
      "[Train] epoch: 0,step: 18,loss:1.04597,accuracy: 0.55\r",
      "[Train] epoch: 0,step: 19,loss:1.23213,accuracy: 0.60\r",
      "[Train] epoch: 0,step: 20,loss:0.79313,accuracy: 0.80\r",
      "[Train] epoch: 0,step: 21,loss:1.08262,accuracy: 0.60\r",
      "[Train] epoch: 0,step: 22,loss:0.82823,accuracy: 0.75\r",
      "[Train] epoch: 0,step: 23,loss:0.83137,accuracy: 0.60\r",
      "[Train] epoch: 0,step: 24,loss:0.72183,accuracy: 0.65\r",
      "[Train] epoch: 0,step: 25,loss:0.97021,accuracy: 0.60\r",
      "[Train] epoch: 0,step: 26,loss:0.83963,accuracy: 0.65\r",
      "[Train] epoch: 0,step: 27,loss:0.88008,accuracy: 0.75\r",
      "[Train] epoch: 0,step: 28,loss:0.87898,accuracy: 0.70\r",
      "[Train] epoch: 0,step: 29,loss:0.76472,accuracy: 0.70\r",
      "[Train] epoch: 0,step: 30,loss:0.69958,accuracy: 0.75\r",
      "[Train] epoch: 0,step: 31,loss:0.81650,accuracy: 0.75\r",
      "[Train] epoch: 0,step: 32,loss:0.51801,accuracy: 0.90\r",
      "[Train] epoch: 0,step: 33,loss:1.26362,accuracy: 0.45\r",
      "[Train] epoch: 0,step: 34,loss:0.97532,accuracy: 0.60\r",
      "[Train] epoch: 0,step: 35,loss:0.50008,accuracy: 0.85\r",
      "[Train] epoch: 0,step: 36,loss:0.92665,accuracy: 0.65\r",
      "[Train] epoch: 0,step: 37,loss:0.97389,accuracy: 0.55\r",
      "[Train] epoch: 0,step: 38,loss:0.76332,accuracy: 0.65\r",
      "[Train] epoch: 0,step: 39,loss:0.85143,accuracy: 0.70\r",
      "[Train] epoch: 0,step: 40,loss:1.02729,accuracy: 0.60\r",
      "[Train] epoch: 0,step: 41,loss:0.53719,accuracy: 0.80\r",
      "[Train] epoch: 0,step: 42,loss:0.76324,accuracy: 0.75\r",
      "[Train] epoch: 0,step: 43,loss:0.68800,accuracy: 0.75\r",
      "[Train] epoch: 0,step: 44,loss:0.50004,accuracy: 0.85\r",
      "[Train] epoch: 0,step: 45,loss:0.78231,accuracy: 0.65\r",
      "[Train] epoch: 0,step: 46,loss:0.86620,accuracy: 0.60\r",
      "[Train] epoch: 0,step: 47,loss:0.38855,accuracy: 0.80\r",
      "[Train] epoch: 0,step: 48,loss:1.18891,accuracy: 0.45\r",
      "[Train] epoch: 0,step: 49,loss:0.65155,accuracy: 0.80\r",
      "[Train] epoch: 0,step: 50,loss:0.76806,accuracy: 0.60\r",
      "[Train] epoch: 0,step: 51,loss:0.77161,accuracy: 0.75\r",
      "[Train] epoch: 0,step: 52,loss:0.61104,accuracy: 0.80\r",
      "[Train] epoch: 0,step: 53,loss:0.37805,accuracy: 0.90\r",
      "[Train] epoch: 0,step: 54,loss:1.25802,accuracy: 0.55\r",
      "[Train] epoch: 0,step: 55,loss:0.61275,accuracy: 0.85\r",
      "[Train] epoch: 0,step: 56,loss:0.48364,accuracy: 0.90\r",
      "[Train] epoch: 0,step: 57,loss:1.10302,accuracy: 0.65\r",
      "[Train] epoch: 0,step: 58,loss:0.95692,accuracy: 0.70\r",
      "[Train] epoch: 0,step: 59,loss:1.08165,accuracy: 0.55\r",
      "[Train] epoch: 0,step: 60,loss:0.82457,accuracy: 0.75\r",
      "[Train] epoch: 0,step: 61,loss:0.64318,accuracy: 0.85\r",
      "[Train] epoch: 0,step: 62,loss:0.51380,accuracy: 0.80\r",
      "[Train] epoch: 0,step: 63,loss:0.48017,accuracy: 0.75\r",
      "[Train] epoch: 0,step: 64,loss:0.54749,accuracy: 0.85\r",
      "[Train] epoch: 0,step: 65,loss:0.91235,accuracy: 0.70\r",
      "[Train] epoch: 0,step: 66,loss:0.38173,accuracy: 0.90\r",
      "[Train] epoch: 0,step: 67,loss:0.41616,accuracy: 0.85\r",
      "[Train] epoch: 0,step: 68,loss:0.42802,accuracy: 0.75\r",
      "[Train] epoch: 0,step: 69,loss:0.52447,accuracy: 0.75\r",
      "[Train] epoch: 0,step: 70,loss:0.44318,accuracy: 0.80\r",
      "[Train] epoch: 0,step: 71,loss:0.64781,accuracy: 0.70\r",
      "[Train] epoch: 0,step: 72,loss:0.61705,accuracy: 0.65\r",
      "[Train] epoch: 0,step: 73,loss:0.52148,accuracy: 0.80\r",
      "[Train] epoch: 0,step: 74,loss:1.06015,accuracy: 0.70\r",
      "[Train] epoch: 0,step: 75,loss:0.28828,accuracy: 0.90\r",
      "[Train] epoch: 0,step: 76,loss:1.00315,accuracy: 0.70\r",
      "[Train] epoch: 0,step: 77,loss:0.57232,accuracy: 0.75\r",
      "[Train] epoch: 0,step: 78,loss:0.47322,accuracy: 0.75\r",
      "[Train] epoch: 0,step: 79,loss:0.23084,accuracy: 0.95\r",
      "[Train] epoch: 0,step: 80,loss:0.72344,accuracy: 0.70\r",
      "[Train] epoch: 0,step: 81,loss:1.12236,accuracy: 0.55\r",
      "[Train] epoch: 0,step: 82,loss:0.45904,accuracy: 0.80\r",
      "[Train] epoch: 0,step: 83,loss:0.60321,accuracy: 0.65\r",
      "[Train] epoch: 0,step: 84,loss:0.50597,accuracy: 0.80\r",
      "[Train] epoch: 0,step: 85,loss:0.82167,accuracy: 0.75\r",
      "[Train] epoch: 0,step: 86,loss:0.79199,accuracy: 0.80\r",
      "[Train] epoch: 0,step: 87,loss:0.74483,accuracy: 0.70\r",
      "[Train] epoch: 0,step: 88,loss:1.07672,accuracy: 0.55\r",
      "[Train] epoch: 0,step: 89,loss:0.68609,accuracy: 0.70\r",
      "[Train] epoch: 0,step: 90,loss:0.67978,accuracy: 0.85\r",
      "[Train] epoch: 0,step: 91,loss:0.70094,accuracy: 0.80\r",
      "[Train] epoch: 0,step: 92,loss:0.59793,accuracy: 0.80\r",
      "[Train] epoch: 0,step: 93,loss:1.05342,accuracy: 0.55\r",
      "[Train] epoch: 0,step: 94,loss:0.37817,accuracy: 0.95\r",
      "[Train] epoch: 0,step: 95,loss:0.89824,accuracy: 0.60\r",
      "[Train] epoch: 0,step: 96,loss:0.74114,accuracy: 0.70\r",
      "[Train] epoch: 0,step: 97,loss:0.44688,accuracy: 0.85\r",
      "[Train] epoch: 0,step: 98,loss:0.77590,accuracy: 0.80\r",
      "[Train] epoch: 0,step: 99,loss:0.59560,accuracy: 0.65\r",
      "[Train] epoch: 0,step: 100,loss:0.43836,accuracy: 0.85\r",
      "[Train] epoch: 0,step: 101,loss:0.40338,accuracy: 0.90\r",
      "[Train] epoch: 0,step: 102,loss:0.60121,accuracy: 0.85\r",
      "[Train] epoch: 0,step: 103,loss:0.76309,accuracy: 0.70\r",
      "[Train] epoch: 0,step: 104,loss:0.53125,accuracy: 0.85\r",
      "[Train] epoch: 0,step: 105,loss:0.42756,accuracy: 0.85\r",
      "[Train] epoch: 0,step: 106,loss:0.44372,accuracy: 0.85\r",
      "[Train] epoch: 0,step: 107,loss:0.61237,accuracy: 0.75\r",
      "[Train] epoch: 0,step: 108,loss:0.50200,accuracy: 0.70\r",
      "[Train] epoch: 0,step: 109,loss:0.51417,accuracy: 0.75\r",
      "[Train] epoch: 0,step: 110,loss:0.81711,accuracy: 0.65\r",
      "[Train] epoch: 0,step: 111,loss:0.60719,accuracy: 0.80\r",
      "[Train] epoch: 0,step: 112,loss:0.77047,accuracy: 0.60\r",
      "[Train] epoch: 0,step: 113,loss:0.68118,accuracy: 0.75\r",
      "[Train] epoch: 0,step: 114,loss:0.92615,accuracy: 0.60\r",
      "[Train] epoch: 0,step: 115,loss:0.58763,accuracy: 0.75\r",
      "[Train] epoch: 0,step: 116,loss:0.56285,accuracy: 0.70\r",
      "[Train] epoch: 0,step: 117,loss:0.63589,accuracy: 0.85\r",
      "[Train] epoch: 0,step: 118,loss:0.84713,accuracy: 0.60\r",
      "[Train] epoch: 0,step: 119,loss:0.63313,accuracy: 0.80\r",
      "[Train] epoch: 0,step: 120,loss:1.21731,accuracy: 0.60\r",
      "[Train] epoch: 0,step: 121,loss:0.24682,accuracy: 0.90\r",
      "[Train] epoch: 0,step: 122,loss:0.65299,accuracy: 0.70\r",
      "[Train] epoch: 0,step: 123,loss:0.78608,accuracy: 0.55\r",
      "[Train] epoch: 0,step: 124,loss:0.54253,accuracy: 0.80\r",
      "[Train] epoch: 0,step: 125,loss:0.65078,accuracy: 0.70\r",
      "[Train] epoch: 0,step: 126,loss:0.44452,accuracy: 0.90\r",
      "[Train] epoch: 0,step: 127,loss:0.68766,accuracy: 0.80\r",
      "[Train] epoch: 0,step: 128,loss:0.84309,accuracy: 0.75\r",
      "[Train] epoch: 0,step: 129,loss:0.70103,accuracy: 0.70\r",
      "[Train] epoch: 0,step: 130,loss:0.92267,accuracy: 0.60\r",
      "[Train] epoch: 0,step: 131,loss:0.85586,accuracy: 0.70\r",
      "[Train] epoch: 0,step: 132,loss:0.73985,accuracy: 0.70\r",
      "[Train] epoch: 0,step: 133,loss:0.47202,accuracy: 0.80\r",
      "[Train] epoch: 0,step: 134,loss:0.69740,accuracy: 0.75\r",
      "[Train] epoch: 0,step: 135,loss:0.56578,accuracy: 0.75\r",
      "[Train] epoch: 0,step: 136,loss:0.64035,accuracy: 0.80\r",
      "[Train] epoch: 0,step: 137,loss:0.38447,accuracy: 0.85\r",
      "[Train] epoch: 0,step: 138,loss:0.85462,accuracy: 0.70\r",
      "[Train] epoch: 0,step: 139,loss:1.10527,accuracy: 0.55\r",
      "[Train] epoch: 0,step: 140,loss:0.77191,accuracy: 0.75\r",
      "[Train] epoch: 0,step: 141,loss:0.46957,accuracy: 0.80\r",
      "[Train] epoch: 0,step: 142,loss:0.56014,accuracy: 0.75\r",
      "[Train] epoch: 0,step: 143,loss:0.74257,accuracy: 0.70\r",
      "[Train] epoch: 0,step: 144,loss:0.53618,accuracy: 0.80\r",
      "[Train] epoch: 0,step: 145,loss:0.56874,accuracy: 0.75\r",
      "[Train] epoch: 0,step: 146,loss:0.69646,accuracy: 0.75\r",
      "[Train] epoch: 0,step: 147,loss:0.53240,accuracy: 0.85\r",
      "[Train] epoch: 0,step: 148,loss:0.54973,accuracy: 0.85\r",
      "[Train] epoch: 0,step: 149,loss:0.60393,accuracy: 0.80\r",
      "[Train] epoch: 0,step: 150,loss:0.84264,accuracy: 0.65"
     ]
    },
    {
     "name": "stdout",
     "output_type": "stream",
     "text": [
      "[Train] epoch: 9,step: 2749,loss:0.11439,accuracy: 0.90"
     ]
    }
   ],
   "source": [
    "# session\n",
    "\n",
    "init = tf.global_variables_initializer()\n",
    "train_steps_per_epoch = x_train.shape[0] // batch_size\n",
    "\n",
    "with tf.Session() as sess:\n",
    "    sess.run(init)\n",
    "    for epoch in range(epochs):\n",
    "        for step in range(train_steps_per_epoch):\n",
    "\n",
    "            loss_val,accuracy_val,_ = sess.run(\n",
    "                [loss,accuracy,train_op])\n",
    "            print('\\r[Train] epoch: %d,step: %d,loss:%3.5f,accuracy: %2.2f'%(epoch,step,loss_val,accuracy_val),end='')\n"
   ]
  },
  {
   "cell_type": "code",
   "execution_count": null,
   "metadata": {},
   "outputs": [],
   "source": []
  }
 ],
 "metadata": {
  "kernelspec": {
   "display_name": "Python [conda env:tf13]",
   "language": "python",
   "name": "conda-env-tf13-py"
  },
  "language_info": {
   "codemirror_mode": {
    "name": "ipython",
    "version": 3
   },
   "file_extension": ".py",
   "mimetype": "text/x-python",
   "name": "python",
   "nbconvert_exporter": "python",
   "pygments_lexer": "ipython3",
   "version": "3.7.6"
  }
 },
 "nbformat": 4,
 "nbformat_minor": 2
}
