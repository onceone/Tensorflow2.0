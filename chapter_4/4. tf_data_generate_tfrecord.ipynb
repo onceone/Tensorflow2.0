{
 "cells": [
  {
   "cell_type": "code",
   "execution_count": 1,
   "metadata": {},
   "outputs": [
    {
     "name": "stdout",
     "output_type": "stream",
     "text": [
      "2.0.0\n",
      "sys.version_info(major=3, minor=7, micro=4, releaselevel='final', serial=0)\n",
      "matplotlib 3.1.1\n",
      "numpy 1.16.5\n",
      "pandas 0.25.2\n",
      "sklearn 0.21.3\n",
      "tensorflow 2.0.0\n",
      "tensorflow_core.keras 2.2.4-tf\n"
     ]
    }
   ],
   "source": [
    "import matplotlib as mpl\n",
    "import matplotlib.pyplot as plt\n",
    "%matplotlib inline\n",
    "import numpy as np\n",
    "import sklearn\n",
    "import pandas as pd\n",
    "import os\n",
    "import sys\n",
    "import time\n",
    "import tensorflow as tf\n",
    "from tensorflow import keras\n",
    "\n",
    "print(tf.__version__)\n",
    "print(sys.version_info)\n",
    "for module in mpl,np,pd,sklearn,tf,keras:\n",
    "    print(module.__name__,module.__version__)"
   ]
  },
  {
   "cell_type": "code",
   "execution_count": 2,
   "metadata": {},
   "outputs": [
    {
     "name": "stdout",
     "output_type": "stream",
     "text": [
      "['test_00.csv', 'test_01.csv', 'test_02.csv', 'test_03.csv', 'test_04.csv', 'test_05.csv', 'test_06.csv', 'test_07.csv', 'test_08.csv', 'test_09.csv', 'train_00.csv', 'train_01.csv', 'train_02.csv', 'train_03.csv', 'train_04.csv', 'train_05.csv', 'train_06.csv', 'train_07.csv', 'train_08.csv', 'train_09.csv', 'train_10.csv', 'train_11.csv', 'train_12.csv', 'train_13.csv', 'train_14.csv', 'train_15.csv', 'train_16.csv', 'train_17.csv', 'train_18.csv', 'train_19.csv', 'valid_00.csv', 'valid_01.csv', 'valid_02.csv', 'valid_03.csv', 'valid_04.csv', 'valid_05.csv', 'valid_06.csv', 'valid_07.csv', 'valid_08.csv', 'valid_09.csv']\n",
      "['./generate_csv/train_00.csv',\n",
      " './generate_csv/train_01.csv',\n",
      " './generate_csv/train_02.csv',\n",
      " './generate_csv/train_03.csv',\n",
      " './generate_csv/train_04.csv',\n",
      " './generate_csv/train_05.csv',\n",
      " './generate_csv/train_06.csv',\n",
      " './generate_csv/train_07.csv',\n",
      " './generate_csv/train_08.csv',\n",
      " './generate_csv/train_09.csv',\n",
      " './generate_csv/train_10.csv',\n",
      " './generate_csv/train_11.csv',\n",
      " './generate_csv/train_12.csv',\n",
      " './generate_csv/train_13.csv',\n",
      " './generate_csv/train_14.csv',\n",
      " './generate_csv/train_15.csv',\n",
      " './generate_csv/train_16.csv',\n",
      " './generate_csv/train_17.csv',\n",
      " './generate_csv/train_18.csv',\n",
      " './generate_csv/train_19.csv']\n",
      "['./generate_csv/valid_00.csv',\n",
      " './generate_csv/valid_01.csv',\n",
      " './generate_csv/valid_02.csv',\n",
      " './generate_csv/valid_03.csv',\n",
      " './generate_csv/valid_04.csv',\n",
      " './generate_csv/valid_05.csv',\n",
      " './generate_csv/valid_06.csv',\n",
      " './generate_csv/valid_07.csv',\n",
      " './generate_csv/valid_08.csv',\n",
      " './generate_csv/valid_09.csv']\n",
      "['./generate_csv/test_00.csv',\n",
      " './generate_csv/test_01.csv',\n",
      " './generate_csv/test_02.csv',\n",
      " './generate_csv/test_03.csv',\n",
      " './generate_csv/test_04.csv',\n",
      " './generate_csv/test_05.csv',\n",
      " './generate_csv/test_06.csv',\n",
      " './generate_csv/test_07.csv',\n",
      " './generate_csv/test_08.csv',\n",
      " './generate_csv/test_09.csv']\n"
     ]
    }
   ],
   "source": [
    "source_dir = './generate_csv/'\n",
    "print(os.listdir(source_dir))\n",
    "\n",
    "# 读取文件名\n",
    "def get_filenames_by_prefix(source_dir,prefix_name):\n",
    "    all_files = os.listdir(source_dir)\n",
    "    results = []\n",
    "    for filename in all_files:\n",
    "        if filename.startswith(prefix_name):\n",
    "            results.append(os.path.join(source_dir,filename))\n",
    "    return results\n",
    "\n",
    "train_filenames = get_filenames_by_prefix(source_dir,'train')\n",
    "valid_filenames = get_filenames_by_prefix(source_dir,'valid')\n",
    "test_filenames = get_filenames_by_prefix(source_dir,'test')\n",
    "\n",
    "import pprint\n",
    "pprint.pprint(train_filenames)\n",
    "pprint.pprint(valid_filenames)\n",
    "pprint.pprint(test_filenames)"
   ]
  },
  {
   "cell_type": "code",
   "execution_count": null,
   "metadata": {},
   "outputs": [],
   "source": [
    "# 以下三步从csv中读取数据"
   ]
  },
  {
   "cell_type": "code",
   "execution_count": 3,
   "metadata": {},
   "outputs": [],
   "source": [
    "# 解析dataset 中的一行\n",
    "\n",
    "def parse_csv_line(line,n_fields=9):\n",
    "    defs = [tf.constant(np.nan)] * n_fields\n",
    "    parsed_fields = tf.io.decode_csv(line,record_defaults=defs)\n",
    "    x = tf.stack(parsed_fields[0:-1])\n",
    "    y = tf.stack(parsed_fields[-1:])\n",
    "    \n",
    "    return x,y"
   ]
  },
  {
   "cell_type": "code",
   "execution_count": 6,
   "metadata": {},
   "outputs": [],
   "source": [
    "def csv_reader_dataset(filenames,n_readers=5,batch_size=32,n_parse_threads=5,\n",
    "                      shuffle_buffer_size=10000):\n",
    "    \n",
    "    # 1. filename -> dataset\n",
    "    dataset = tf.data.Dataset.list_files(filenames)\n",
    "    dataset = dataset.repeat() # 重复多少次\n",
    "    # 文件名转换成文本内容\n",
    "    dataset = dataset.interleave(\n",
    "            lambda filename:tf.data.TextLineDataset(filename).skip(1),\n",
    "            cycle_length = n_readers\n",
    "    )\n",
    "    dataset.shuffle(shuffle_buffer_size)\n",
    "    # 解析\n",
    "    dataset = dataset.map(parse_csv_line,\n",
    "                         num_parallel_calls=n_parse_threads)\n",
    "    \n",
    "    dataset = dataset.batch(batch_size)\n",
    "    return dataset"
   ]
  },
  {
   "cell_type": "code",
   "execution_count": 12,
   "metadata": {},
   "outputs": [],
   "source": [
    "batch_size = 32\n",
    "train_set = csv_reader_dataset(train_filenames,batch_size=batch_size)\n",
    "valid_set = csv_reader_dataset(valid_filenames,batch_size=batch_size)\n",
    "test_set = csv_reader_dataset(test_filenames,batch_size=batch_size)"
   ]
  },
  {
   "cell_type": "code",
   "execution_count": 25,
   "metadata": {},
   "outputs": [],
   "source": [
    "# 将数据写入tf.record\n",
    "\n",
    "def serialize_example(x,y):\n",
    "    \"\"\" Converts x,y to tf.train.Example eand serialize\"\"\"\n",
    "    input_features = tf.train.FloatList(value = x)\n",
    "    label = tf.train.FloatList(value = y)\n",
    "    # 转成feature\n",
    "    features = tf.train.Features(\n",
    "        feature = {\n",
    "            \"input_features\":tf.train.Feature(float_list = input_features),\n",
    "            \"label\":tf.train.Feature(float_list = label)\n",
    "        }\n",
    "    )\n",
    "    # 转成example\n",
    "    example = tf.train.Example(features = features)\n",
    "    return example.SerializeToString() # 序列化\n",
    "\n",
    "def csv_dataset_to_tfrecords(base_filename,dataset,n_shards,steps_per_shard,compression_type=None):\n",
    "    options = tf.io.TFRecordOptions(compression_type = compression_type)\n",
    "    all_filenames = []\n",
    "    for shard_id in range(n_shards):\n",
    "        filename_fullpath = '{}_{:05d}-of-{:05d}'.format(base_filename,shard_id,n_shards)\n",
    "        with tf.io.TFRecordWriter(filename_fullpath,options) as writer:\n",
    "            for x_batch,y_batch in dataset.take(steps_per_shard):\n",
    "                for x_example,y_example in zip(x_batch,y_batch):\n",
    "                    writer.write(serialize_example(x_example,y_example))\n",
    "        all_filenames.append(filename_fullpath)\n",
    "        \n",
    "    return all_filenames"
   ]
  },
  {
   "cell_type": "code",
   "execution_count": 26,
   "metadata": {},
   "outputs": [],
   "source": [
    "n_shards = 20\n",
    "train_steps_per_shard = 11610 // batch_size // n_shards\n",
    "valid_steps_per_shard = 3880 // batch_size // n_shards\n",
    "test_steps_per_shard = 5170 // batch_size // n_shards\n",
    "\n",
    "output_dir = \"generate_tfrecords\"\n",
    "if not os.path.exists(output_dir):\n",
    "    os.mkdir(output_dir)\n",
    "    \n",
    "train_basename = os.path.join(output_dir,'train')\n",
    "valid_basename = os.path.join(output_dir,'valid')\n",
    "test_basename = os.path.join(output_dir,'test')\n",
    "\n",
    "train_tfrecord_filenmaes = csv_dataset_to_tfrecords(train_basename,train_set,n_shards,train_steps_per_shard,None)\n",
    "valid_tfrecord_filenames = csv_dataset_to_tfrecords(valid_basename,valid_set,n_shards,valid_steps_per_shard,None)\n",
    "test_tfrecord_filenames = csv_dataset_to_tfrecords(test_basename,test_set,n_shards,valid_steps_per_shard,None)"
   ]
  },
  {
   "cell_type": "code",
   "execution_count": 27,
   "metadata": {},
   "outputs": [],
   "source": [
    "# 生成压缩文件\n",
    "n_shards = 20\n",
    "train_steps_per_shard = 11610 // batch_size // n_shards\n",
    "valid_steps_per_shard = 3880 // batch_size // n_shards\n",
    "test_steps_per_shard = 5170 // batch_size // n_shards\n",
    "\n",
    "output_dir = \"generate_tfrecords_zip\"\n",
    "if not os.path.exists(output_dir):\n",
    "    os.mkdir(output_dir)\n",
    "    \n",
    "train_basename = os.path.join(output_dir,'train')\n",
    "valid_basename = os.path.join(output_dir,'valid')\n",
    "test_basename = os.path.join(output_dir,'test')\n",
    "\n",
    "train_tfrecord_filenmaes = csv_dataset_to_tfrecords(train_basename,train_set,n_shards,train_steps_per_shard,compression_type=\"GZIP\")\n",
    "valid_tfrecord_filenames = csv_dataset_to_tfrecords(valid_basename,valid_set,n_shards,valid_steps_per_shard,compression_type=\"GZIP\")\n",
    "test_tfrecord_filenames = csv_dataset_to_tfrecords(test_basename,test_set,n_shards,valid_steps_per_shard,compression_type=\"GZIP\")"
   ]
  },
  {
   "cell_type": "code",
   "execution_count": 28,
   "metadata": {},
   "outputs": [
    {
     "name": "stdout",
     "output_type": "stream",
     "text": [
      "['generate_tfrecords_zip\\\\train_00000-of-00020',\n",
      " 'generate_tfrecords_zip\\\\train_00001-of-00020',\n",
      " 'generate_tfrecords_zip\\\\train_00002-of-00020',\n",
      " 'generate_tfrecords_zip\\\\train_00003-of-00020',\n",
      " 'generate_tfrecords_zip\\\\train_00004-of-00020',\n",
      " 'generate_tfrecords_zip\\\\train_00005-of-00020',\n",
      " 'generate_tfrecords_zip\\\\train_00006-of-00020',\n",
      " 'generate_tfrecords_zip\\\\train_00007-of-00020',\n",
      " 'generate_tfrecords_zip\\\\train_00008-of-00020',\n",
      " 'generate_tfrecords_zip\\\\train_00009-of-00020',\n",
      " 'generate_tfrecords_zip\\\\train_00010-of-00020',\n",
      " 'generate_tfrecords_zip\\\\train_00011-of-00020',\n",
      " 'generate_tfrecords_zip\\\\train_00012-of-00020',\n",
      " 'generate_tfrecords_zip\\\\train_00013-of-00020',\n",
      " 'generate_tfrecords_zip\\\\train_00014-of-00020',\n",
      " 'generate_tfrecords_zip\\\\train_00015-of-00020',\n",
      " 'generate_tfrecords_zip\\\\train_00016-of-00020',\n",
      " 'generate_tfrecords_zip\\\\train_00017-of-00020',\n",
      " 'generate_tfrecords_zip\\\\train_00018-of-00020',\n",
      " 'generate_tfrecords_zip\\\\train_00019-of-00020']\n",
      "['generate_tfrecords_zip\\\\valid_00000-of-00020',\n",
      " 'generate_tfrecords_zip\\\\valid_00001-of-00020',\n",
      " 'generate_tfrecords_zip\\\\valid_00002-of-00020',\n",
      " 'generate_tfrecords_zip\\\\valid_00003-of-00020',\n",
      " 'generate_tfrecords_zip\\\\valid_00004-of-00020',\n",
      " 'generate_tfrecords_zip\\\\valid_00005-of-00020',\n",
      " 'generate_tfrecords_zip\\\\valid_00006-of-00020',\n",
      " 'generate_tfrecords_zip\\\\valid_00007-of-00020',\n",
      " 'generate_tfrecords_zip\\\\valid_00008-of-00020',\n",
      " 'generate_tfrecords_zip\\\\valid_00009-of-00020',\n",
      " 'generate_tfrecords_zip\\\\valid_00010-of-00020',\n",
      " 'generate_tfrecords_zip\\\\valid_00011-of-00020',\n",
      " 'generate_tfrecords_zip\\\\valid_00012-of-00020',\n",
      " 'generate_tfrecords_zip\\\\valid_00013-of-00020',\n",
      " 'generate_tfrecords_zip\\\\valid_00014-of-00020',\n",
      " 'generate_tfrecords_zip\\\\valid_00015-of-00020',\n",
      " 'generate_tfrecords_zip\\\\valid_00016-of-00020',\n",
      " 'generate_tfrecords_zip\\\\valid_00017-of-00020',\n",
      " 'generate_tfrecords_zip\\\\valid_00018-of-00020',\n",
      " 'generate_tfrecords_zip\\\\valid_00019-of-00020']\n",
      "['generate_tfrecords_zip\\\\test_00000-of-00020',\n",
      " 'generate_tfrecords_zip\\\\test_00001-of-00020',\n",
      " 'generate_tfrecords_zip\\\\test_00002-of-00020',\n",
      " 'generate_tfrecords_zip\\\\test_00003-of-00020',\n",
      " 'generate_tfrecords_zip\\\\test_00004-of-00020',\n",
      " 'generate_tfrecords_zip\\\\test_00005-of-00020',\n",
      " 'generate_tfrecords_zip\\\\test_00006-of-00020',\n",
      " 'generate_tfrecords_zip\\\\test_00007-of-00020',\n",
      " 'generate_tfrecords_zip\\\\test_00008-of-00020',\n",
      " 'generate_tfrecords_zip\\\\test_00009-of-00020',\n",
      " 'generate_tfrecords_zip\\\\test_00010-of-00020',\n",
      " 'generate_tfrecords_zip\\\\test_00011-of-00020',\n",
      " 'generate_tfrecords_zip\\\\test_00012-of-00020',\n",
      " 'generate_tfrecords_zip\\\\test_00013-of-00020',\n",
      " 'generate_tfrecords_zip\\\\test_00014-of-00020',\n",
      " 'generate_tfrecords_zip\\\\test_00015-of-00020',\n",
      " 'generate_tfrecords_zip\\\\test_00016-of-00020',\n",
      " 'generate_tfrecords_zip\\\\test_00017-of-00020',\n",
      " 'generate_tfrecords_zip\\\\test_00018-of-00020',\n",
      " 'generate_tfrecords_zip\\\\test_00019-of-00020']\n"
     ]
    }
   ],
   "source": [
    "# 读取tfrecord文件与tf.keras结合使用\n",
    "# 打印文件名\n",
    "pprint.pprint(train_tfrecord_filenmaes)\n",
    "pprint.pprint(valid_tfrecord_filenames)\n",
    "pprint.pprint(test_tfrecord_filenames)"
   ]
  },
  {
   "cell_type": "code",
   "execution_count": 32,
   "metadata": {},
   "outputs": [],
   "source": [
    "expected_features = {\n",
    "    \"input_features\":tf.io.FixedLenFeature([8],dtype=tf.float32),\n",
    "    \"label\":tf.io.FixedLenFeature([1],dtype=tf.float32)\n",
    "}\n",
    "\n",
    "def parse_example(serialized_example):\n",
    "    example = tf.io.parse_single_example(serialized_example,expected_features)\n",
    "    return example[\"input_features\"],example[\"label\"]\n",
    "\n",
    "\n",
    "def tfrecords_reader_dataset(filenames,n_readers=5,batch_size=32,n_parse_threads=5,shuffle_buffer_size=10000):\n",
    "    \n",
    "    # 1. filename -> dataset\n",
    "    dataset = tf.data.Dataset.list_files(filenames)\n",
    "    dataset = dataset.repeat() # 重复多少次\n",
    "    # 文件名转换成文本内容\n",
    "    dataset = dataset.interleave(\n",
    "            lambda filename:tf.data.TFRecordDataset(filename,compression_type=\"GZIP\"),\n",
    "            cycle_length = n_readers\n",
    "    )\n",
    "    dataset.shuffle(shuffle_buffer_size)\n",
    "    # 解析\n",
    "    dataset = dataset.map(parse_example,\n",
    "                         num_parallel_calls=n_parse_threads)\n",
    "    \n",
    "    dataset = dataset.batch(batch_size)\n",
    "    return dataset"
   ]
  },
  {
   "cell_type": "code",
   "execution_count": 33,
   "metadata": {},
   "outputs": [
    {
     "name": "stdout",
     "output_type": "stream",
     "text": [
      "tf.Tensor(\n",
      "[[-0.097193   -1.2497431   0.36232963  0.02690608  1.0338118   0.04588159\n",
      "   1.3418335  -1.635387  ]\n",
      " [-0.097193   -1.2497431   0.36232963  0.02690608  1.0338118   0.04588159\n",
      "   1.3418335  -1.635387  ]\n",
      " [ 0.48530516 -0.8492419  -0.06530126 -0.02337966  1.4974351  -0.07790658\n",
      "  -0.90236324  0.78145146]], shape=(3, 8), dtype=float32)\n",
      "tf.Tensor(\n",
      "[[1.832]\n",
      " [1.832]\n",
      " [2.956]], shape=(3, 1), dtype=float32)\n",
      "tf.Tensor(\n",
      "[[-0.66722274 -0.04823952  0.34529406  0.53826684  1.8521839  -0.06112538\n",
      "  -0.8417093   1.5204847 ]\n",
      " [-1.119975   -1.3298433   0.14190045  0.4658137  -0.10301778 -0.10744184\n",
      "  -0.7950524   1.5304717 ]\n",
      " [ 0.04326301 -1.0895426  -0.38878718 -0.10789865 -0.68186635 -0.0723871\n",
      "  -0.8883662   0.8213992 ]], shape=(3, 8), dtype=float32)\n",
      "tf.Tensor(\n",
      "[[1.59 ]\n",
      " [0.66 ]\n",
      " [1.426]], shape=(3, 1), dtype=float32)\n"
     ]
    }
   ],
   "source": [
    "# 测试\n",
    "tfrecords_train = tfrecords_reader_dataset(train_tfrecord_filenmaes,batch_size=3)\n",
    "for x_batch,y_batch in tfrecords_train.take(2):\n",
    "    print(x_batch)\n",
    "    print(y_batch)"
   ]
  },
  {
   "cell_type": "code",
   "execution_count": 34,
   "metadata": {},
   "outputs": [],
   "source": [
    "batch_size = 32\n",
    "tfrecords_train_set = tfrecords_reader_dataset(train_tfrecord_filenmaes,batch_size=batch_size)\n",
    "tfrecords_valid_set = tfrecords_reader_dataset(valid_tfrecord_filenames,batch_size=batch_size)\n",
    "tfrecords_test_set = tfrecords_reader_dataset(test_tfrecord_filenames,batch_size=batch_size)"
   ]
  },
  {
   "cell_type": "code",
   "execution_count": 35,
   "metadata": {},
   "outputs": [
    {
     "name": "stdout",
     "output_type": "stream",
     "text": [
      "Model: \"sequential\"\n",
      "_________________________________________________________________\n",
      "Layer (type)                 Output Shape              Param #   \n",
      "=================================================================\n",
      "dense (Dense)                (None, 30)                270       \n",
      "_________________________________________________________________\n",
      "dense_1 (Dense)              (None, 1)                 31        \n",
      "=================================================================\n",
      "Total params: 301\n",
      "Trainable params: 301\n",
      "Non-trainable params: 0\n",
      "_________________________________________________________________\n"
     ]
    }
   ],
   "source": [
    "# 搭建模型\n",
    "model = keras.models.Sequential([\n",
    "    keras.layers.Dense(30,activation='relu',input_shape=[8]),\n",
    "    keras.layers.Dense(1),\n",
    "    \n",
    "])\n",
    "\n",
    "# 打印model信息\n",
    "model.summary()\n",
    "# 编译\n",
    "model.compile(loss='mean_squared_error',optimizer=\"sgd\")\n",
    "# 回调函数\n",
    "callbacks = [keras.callbacks.EarlyStopping(patience=5,min_delta=1e-3)]"
   ]
  },
  {
   "cell_type": "code",
   "execution_count": 36,
   "metadata": {},
   "outputs": [
    {
     "name": "stdout",
     "output_type": "stream",
     "text": [
      "Train for 348 steps, validate for 120 steps\n",
      "Epoch 1/100\n",
      "348/348 [==============================] - 2s 6ms/step - loss: 0.8377 - val_loss: 0.5823\n",
      "Epoch 2/100\n",
      "348/348 [==============================] - 1s 3ms/step - loss: 0.4601 - val_loss: 0.4881\n",
      "Epoch 3/100\n",
      "348/348 [==============================] - 1s 3ms/step - loss: 0.4229 - val_loss: 0.4593\n",
      "Epoch 4/100\n",
      "348/348 [==============================] - 1s 3ms/step - loss: 0.3981 - val_loss: 0.4308\n",
      "Epoch 5/100\n",
      "348/348 [==============================] - 1s 3ms/step - loss: 0.3852 - val_loss: 0.4185\n",
      "Epoch 6/100\n",
      "348/348 [==============================] - 1s 3ms/step - loss: 0.3715 - val_loss: 0.4162\n",
      "Epoch 7/100\n",
      "348/348 [==============================] - 1s 3ms/step - loss: 0.3678 - val_loss: 0.4062\n",
      "Epoch 8/100\n",
      "348/348 [==============================] - 1s 3ms/step - loss: 0.3545 - val_loss: 0.3973\n",
      "Epoch 9/100\n",
      "348/348 [==============================] - 1s 3ms/step - loss: 0.3559 - val_loss: 0.3865\n",
      "Epoch 10/100\n",
      "348/348 [==============================] - 1s 3ms/step - loss: 0.3443 - val_loss: 0.3842\n",
      "Epoch 11/100\n",
      "348/348 [==============================] - 1s 3ms/step - loss: 0.3458 - val_loss: 0.3903\n",
      "Epoch 12/100\n",
      "348/348 [==============================] - 1s 3ms/step - loss: 0.3374 - val_loss: 0.3865\n",
      "Epoch 13/100\n",
      "348/348 [==============================] - 1s 3ms/step - loss: 0.3462 - val_loss: 0.3804\n",
      "Epoch 14/100\n",
      "348/348 [==============================] - 1s 3ms/step - loss: 0.3298 - val_loss: 0.3750\n",
      "Epoch 15/100\n",
      "348/348 [==============================] - 1s 3ms/step - loss: 0.3280 - val_loss: 0.3784\n",
      "Epoch 16/100\n",
      "348/348 [==============================] - 1s 3ms/step - loss: 0.3361 - val_loss: 0.3703\n",
      "Epoch 17/100\n",
      "348/348 [==============================] - 1s 3ms/step - loss: 0.3254 - val_loss: 0.3684\n",
      "Epoch 18/100\n",
      "348/348 [==============================] - 1s 3ms/step - loss: 0.3283 - val_loss: 0.3812\n",
      "Epoch 19/100\n",
      "348/348 [==============================] - 1s 3ms/step - loss: 0.3203 - val_loss: 0.3686\n",
      "Epoch 20/100\n",
      "348/348 [==============================] - 1s 3ms/step - loss: 0.3250 - val_loss: 0.3628\n",
      "Epoch 21/100\n",
      "348/348 [==============================] - 1s 3ms/step - loss: 0.3234 - val_loss: 0.3697\n",
      "Epoch 22/100\n",
      "348/348 [==============================] - 1s 3ms/step - loss: 0.3151 - val_loss: 0.3647\n",
      "Epoch 23/100\n",
      "348/348 [==============================] - 1s 3ms/step - loss: 0.3169 - val_loss: 0.3609\n",
      "Epoch 24/100\n",
      "348/348 [==============================] - 1s 3ms/step - loss: 0.3130 - val_loss: 0.3511\n",
      "Epoch 25/100\n",
      "348/348 [==============================] - 1s 3ms/step - loss: 0.3137 - val_loss: 0.3543\n",
      "Epoch 26/100\n",
      "348/348 [==============================] - 1s 3ms/step - loss: 0.3073 - val_loss: 0.3564\n",
      "Epoch 27/100\n",
      "348/348 [==============================] - 1s 3ms/step - loss: 0.3108 - val_loss: 0.3646\n",
      "Epoch 28/100\n",
      "348/348 [==============================] - 1s 3ms/step - loss: 0.3112 - val_loss: 0.3584\n",
      "Epoch 29/100\n",
      "348/348 [==============================] - 1s 3ms/step - loss: 0.3034 - val_loss: 0.3573\n"
     ]
    }
   ],
   "source": [
    "#训练\n",
    "history = model.fit(tfrecords_train_set,validation_data=tfrecords_valid_set,\n",
    "                    steps_per_epoch=11160 // batch_size,\n",
    "                    validation_steps = 3870 // batch_size,\n",
    "                    epochs=100,callbacks=callbacks)"
   ]
  },
  {
   "cell_type": "code",
   "execution_count": 38,
   "metadata": {},
   "outputs": [
    {
     "name": "stdout",
     "output_type": "stream",
     "text": [
      "161/161 [==============================] - 1s 4ms/step - loss: 0.3182\n"
     ]
    },
    {
     "data": {
      "text/plain": [
       "0.3182034741462388"
      ]
     },
     "execution_count": 38,
     "metadata": {},
     "output_type": "execute_result"
    }
   ],
   "source": [
    "model.evaluate(tfrecords_test_set,steps = 5160 // batch_size)"
   ]
  },
  {
   "cell_type": "code",
   "execution_count": null,
   "metadata": {},
   "outputs": [],
   "source": []
  }
 ],
 "metadata": {
  "kernelspec": {
   "display_name": "Python [conda env:tf20]",
   "language": "python",
   "name": "conda-env-tf20-py"
  },
  "language_info": {
   "codemirror_mode": {
    "name": "ipython",
    "version": 3
   },
   "file_extension": ".py",
   "mimetype": "text/x-python",
   "name": "python",
   "nbconvert_exporter": "python",
   "pygments_lexer": "ipython3",
   "version": "3.7.4"
  }
 },
 "nbformat": 4,
 "nbformat_minor": 2
}
