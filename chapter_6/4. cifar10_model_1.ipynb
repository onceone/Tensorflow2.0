{
 "cells": [
  {
   "cell_type": "code",
   "execution_count": 1,
   "metadata": {
    "_cell_guid": "79c7e3d0-c299-4dcb-8224-4455121ee9b0",
    "_uuid": "d629ff2d2480ee46fbb7e2d37f6b5fab8052498a"
   },
   "outputs": [
    {
     "name": "stdout",
     "output_type": "stream",
     "text": [
      "2.0.0\n",
      "sys.version_info(major=3, minor=7, micro=3, releaselevel='final', serial=0)\n",
      "matplotlib 3.1.1\n",
      "pandas 0.25.2\n",
      "sklearn 0.21.3\n",
      "tensorflow 2.0.0\n",
      "tensorflow_core.keras 2.2.4-tf\n"
     ]
    }
   ],
   "source": [
    "%matplotlib inline\n",
    "import matplotlib as mpl\n",
    "import matplotlib.pyplot as plt\n",
    "import numpy as np\n",
    "import pandas as pd\n",
    "import sklearn\n",
    "import os,sys\n",
    "import tensorflow as tf\n",
    "import time\n",
    "from tensorflow import keras\n",
    "os.environ['CUDA_VISIBLE_DEVICES'] = '/gpu:0'\n",
    "print(tf.__version__)\n",
    "print(sys.version_info)\n",
    "for module in mpl,pd,sklearn,tf,keras:\n",
    "    print(module.__name__,module.__version__)"
   ]
  },
  {
   "cell_type": "code",
   "execution_count": 2,
   "metadata": {},
   "outputs": [
    {
     "data": {
      "text/plain": [
       "False"
      ]
     },
     "execution_count": 2,
     "metadata": {},
     "output_type": "execute_result"
    }
   ],
   "source": [
    "tf.test.is_gpu_available()"
   ]
  },
  {
   "cell_type": "code",
   "execution_count": 3,
   "metadata": {},
   "outputs": [
    {
     "name": "stdout",
     "output_type": "stream",
     "text": [
      "[('./cifar10/train\\\\1.png', 'frog'),\n",
      " ('./cifar10/train\\\\2.png', 'truck'),\n",
      " ('./cifar10/train\\\\3.png', 'truck'),\n",
      " ('./cifar10/train\\\\4.png', 'deer'),\n",
      " ('./cifar10/train\\\\5.png', 'automobile')]\n",
      "[('./cifar10/test\\\\1.png', 'cat'),\n",
      " ('./cifar10/test\\\\2.png', 'cat'),\n",
      " ('./cifar10/test\\\\3.png', 'cat'),\n",
      " ('./cifar10/test\\\\4.png', 'cat'),\n",
      " ('./cifar10/test\\\\5.png', 'cat')]\n",
      "50000 300000\n"
     ]
    }
   ],
   "source": [
    "class_names = [\n",
    "    'airplane',\n",
    "    'automobile',\n",
    "    'bird',\n",
    "    'cat',\n",
    "    'deer',\n",
    "    'dog',\n",
    "    'frog',\n",
    "    'horse',\n",
    "    'ship',\n",
    "    'truck'\n",
    "]\n",
    "train_labels_file = './cifar10/trainLabels.csv'\n",
    "test_csv_file = './cifar10/sampleSubmission.csv'\n",
    "train_folder = './cifar10/train'\n",
    "test_folder = './cifar10/test'\n",
    "\n",
    "def parse_csv_file(filepath,folder):\n",
    "    \"\"\"parsers csv files into(filename(path),label) format\"\"\"\n",
    "    results = []\n",
    "    with open(filepath,'r') as f:\n",
    "        lines = f.readlines()[1:]\n",
    "    for line in lines:\n",
    "        image_id,label_str = line.strip('\\n').split(',')\n",
    "        image_full_path = os.path.join(folder,image_id + '.png')\n",
    "        results.append((image_full_path,label_str))\n",
    "    return results\n",
    "\n",
    "\n",
    "train_labels_info = parse_csv_file(train_labels_file,train_folder)\n",
    "test_csv_info = parse_csv_file(test_csv_file,test_folder)\n",
    "\n",
    "import pprint\n",
    "pprint.pprint(train_labels_info[0:5])\n",
    "pprint.pprint(test_csv_info[0:5])\n",
    "print(len(train_labels_info),len(test_csv_info))"
   ]
  },
  {
   "cell_type": "code",
   "execution_count": 4,
   "metadata": {},
   "outputs": [
    {
     "name": "stdout",
     "output_type": "stream",
     "text": [
      "                filepath       class\n",
      "0  ./cifar10/train\\1.png        frog\n",
      "1  ./cifar10/train\\2.png       truck\n",
      "2  ./cifar10/train\\3.png       truck\n",
      "3  ./cifar10/train\\4.png        deer\n",
      "4  ./cifar10/train\\5.png  automobile\n",
      "                    filepath       class\n",
      "0  ./cifar10/train\\45001.png       horse\n",
      "1  ./cifar10/train\\45002.png  automobile\n",
      "2  ./cifar10/train\\45003.png        deer\n",
      "3  ./cifar10/train\\45004.png  automobile\n",
      "4  ./cifar10/train\\45005.png    airplane\n",
      "               filepath class\n",
      "0  ./cifar10/test\\1.png   cat\n",
      "1  ./cifar10/test\\2.png   cat\n",
      "2  ./cifar10/test\\3.png   cat\n",
      "3  ./cifar10/test\\4.png   cat\n",
      "4  ./cifar10/test\\5.png   cat\n"
     ]
    }
   ],
   "source": [
    "# train_df = pd.DataFrame(train_labels_info)\n",
    "train_df = pd.DataFrame(train_labels_info[0:45000])\n",
    "valid_df = pd.DataFrame(train_labels_info[45000:])\n",
    "test_df = pd.DataFrame(test_csv_info)\n",
    "\n",
    "# 修改列名\n",
    "train_df.columns = ['filepath','class']\n",
    "valid_df.columns = ['filepath','class']\n",
    "test_df.columns = ['filepath','class']\n",
    "\n",
    "print(train_df.head())\n",
    "print(valid_df.head())\n",
    "print(test_df.head())"
   ]
  },
  {
   "cell_type": "code",
   "execution_count": 5,
   "metadata": {},
   "outputs": [
    {
     "name": "stdout",
     "output_type": "stream",
     "text": [
      "Found 45000 validated image filenames belonging to 10 classes.\n",
      "Found 5000 validated image filenames belonging to 10 classes.\n",
      "45000 5000\n"
     ]
    }
   ],
   "source": [
    "# 读取图片\n",
    "height = 32\n",
    "width = 32\n",
    "channels = 3\n",
    "batch_size = 32\n",
    "num_classes = 10\n",
    "\n",
    "train_datagen = keras.preprocessing.image.ImageDataGenerator(\n",
    "rescale = 1. / 255,\n",
    "    rotation_range=40,\n",
    "    width_shift_range=0.2,\n",
    "    height_shift_range = 0.2,\n",
    "    shear_range=0.2,\n",
    "    zoom_range=0.2,\n",
    "    horizontal_flip = True,\n",
    "    fill_mode = 'nearest',\n",
    ")\n",
    "train_generator = train_datagen.flow_from_dataframe(train_df,directory='./',x_col='filepath',y_col='class',classes=class_names,\n",
    "                                                    target_size=(height,width),batch_size=batch_size,seed=7,shuffle=True,\n",
    "                                                    class_mode='sparse',)\n",
    "\n",
    "\n",
    "valid_datagen = keras.preprocessing.image.ImageDataGenerator(rescale=1./255)\n",
    "valid_generator = valid_datagen.flow_from_dataframe(valid_df,directory='./',x_col='filepath',y_col='class',classes=class_names,\n",
    "                                                    target_size=(height,width),batch_size=batch_size,seed=7,shuffle=False,\n",
    "                                                    class_mode=\"sparse\")\n",
    "\n",
    "train_num = train_generator.samples\n",
    "valid_num = valid_generator.samples\n",
    "print(train_num,valid_num)"
   ]
  },
  {
   "cell_type": "code",
   "execution_count": 6,
   "metadata": {},
   "outputs": [
    {
     "name": "stdout",
     "output_type": "stream",
     "text": [
      "(32, 32, 32, 3) (32,)\n",
      "[2. 1. 4. 4. 4. 4. 6. 5. 2. 8. 4. 6. 6. 3. 7. 1. 7. 2. 8. 8. 3. 0. 5. 3.\n",
      " 9. 1. 4. 5. 6. 7. 9. 2.]\n",
      "(32, 32, 32, 3) (32,)\n",
      "[0. 7. 2. 7. 5. 5. 7. 0. 5. 4. 9. 7. 6. 3. 0. 4. 4. 4. 6. 3. 5. 4. 6. 6.\n",
      " 4. 1. 8. 2. 4. 4. 3. 0.]\n"
     ]
    }
   ],
   "source": [
    "# 读取数据\n",
    "for i in range(2):\n",
    "    x,y = train_generator.next()\n",
    "    print(x.shape,y.shape)\n",
    "    print(y)"
   ]
  },
  {
   "cell_type": "code",
   "execution_count": 7,
   "metadata": {},
   "outputs": [
    {
     "name": "stdout",
     "output_type": "stream",
     "text": [
      "Model: \"sequential\"\n",
      "_________________________________________________________________\n",
      "Layer (type)                 Output Shape              Param #   \n",
      "=================================================================\n",
      "conv2d (Conv2D)              (None, 32, 32, 128)       3584      \n",
      "_________________________________________________________________\n",
      "batch_normalization (BatchNo (None, 32, 32, 128)       512       \n",
      "_________________________________________________________________\n",
      "conv2d_1 (Conv2D)            (None, 32, 32, 128)       147584    \n",
      "_________________________________________________________________\n",
      "batch_normalization_1 (Batch (None, 32, 32, 128)       512       \n",
      "_________________________________________________________________\n",
      "max_pooling2d (MaxPooling2D) (None, 16, 16, 128)       0         \n",
      "_________________________________________________________________\n",
      "conv2d_2 (Conv2D)            (None, 16, 16, 256)       295168    \n",
      "_________________________________________________________________\n",
      "batch_normalization_2 (Batch (None, 16, 16, 256)       1024      \n",
      "_________________________________________________________________\n",
      "conv2d_3 (Conv2D)            (None, 16, 16, 256)       590080    \n",
      "_________________________________________________________________\n",
      "batch_normalization_3 (Batch (None, 16, 16, 256)       1024      \n",
      "_________________________________________________________________\n",
      "max_pooling2d_1 (MaxPooling2 (None, 8, 8, 256)         0         \n",
      "_________________________________________________________________\n",
      "conv2d_4 (Conv2D)            (None, 8, 8, 512)         1180160   \n",
      "_________________________________________________________________\n",
      "batch_normalization_4 (Batch (None, 8, 8, 512)         2048      \n",
      "_________________________________________________________________\n",
      "conv2d_5 (Conv2D)            (None, 8, 8, 512)         2359808   \n",
      "_________________________________________________________________\n",
      "batch_normalization_5 (Batch (None, 8, 8, 512)         2048      \n",
      "_________________________________________________________________\n",
      "max_pooling2d_2 (MaxPooling2 (None, 4, 4, 512)         0         \n",
      "_________________________________________________________________\n",
      "flatten (Flatten)            (None, 8192)              0         \n",
      "_________________________________________________________________\n",
      "dense (Dense)                (None, 512)               4194816   \n",
      "_________________________________________________________________\n",
      "dense_1 (Dense)              (None, 10)                5130      \n",
      "=================================================================\n",
      "Total params: 8,783,498\n",
      "Trainable params: 8,779,914\n",
      "Non-trainable params: 3,584\n",
      "_________________________________________________________________\n"
     ]
    }
   ],
   "source": [
    "model = keras.models.Sequential([\n",
    "    keras.layers.Conv2D(filters=128,kernel_size=3,padding='same',activation='relu',input_shape=[width,height,channels]),\n",
    "    keras.layers.BatchNormalization(),\n",
    "    keras.layers.Conv2D(filters=128,kernel_size=3,padding='same',activation='relu'),\n",
    "    keras.layers.BatchNormalization(),\n",
    "    keras.layers.MaxPool2D(pool_size=2),\n",
    "    \n",
    "    keras.layers.Conv2D(filters=256,kernel_size=3,padding='same',activation='relu'),\n",
    "    keras.layers.BatchNormalization(),\n",
    "    keras.layers.Conv2D(filters=256,kernel_size=3,padding='same',activation='relu'),\n",
    "    keras.layers.BatchNormalization(),\n",
    "    keras.layers.MaxPool2D(pool_size=2),\n",
    "    \n",
    "    keras.layers.Conv2D(filters=512,kernel_size=3,padding='same',activation='relu'),\n",
    "    keras.layers.BatchNormalization(),\n",
    "    keras.layers.Conv2D(filters=512,kernel_size=3,padding='same',activation='relu'),\n",
    "    keras.layers.BatchNormalization(),\n",
    "    keras.layers.MaxPool2D(pool_size=2),\n",
    "    \n",
    "    # 展平\n",
    "    keras.layers.Flatten(),\n",
    "    keras.layers.Dense(512,activation='relu'),\n",
    "    keras.layers.Dense(num_classes,activation='softmax'),\n",
    "])\n",
    "\n",
    "model.compile(loss='sparse_categorical_crossentropy',optimizer='adam',metrics=['accuracy'])\n",
    "model.summary()"
   ]
  },
  {
   "cell_type": "code",
   "execution_count": 8,
   "metadata": {},
   "outputs": [
    {
     "name": "stdout",
     "output_type": "stream",
     "text": [
      "Epoch 1/20\n",
      "1406/1406 [==============================] - 1858s 1s/step - loss: 3.1899 - accuracy: 0.2409 - val_loss: 1.7016 - val_accuracy: 0.3862\n",
      "Epoch 2/20\n",
      "1406/1406 [==============================] - 1775s 1s/step - loss: 1.7539 - accuracy: 0.3540 - val_loss: 2.2529 - val_accuracy: 0.2931\n",
      "Epoch 3/20\n",
      "1406/1406 [==============================] - 1779s 1s/step - loss: 1.5893 - accuracy: 0.4226 - val_loss: 1.5816 - val_accuracy: 0.4437\n",
      "Epoch 4/20\n",
      "1406/1406 [==============================] - 1771s 1s/step - loss: 1.4560 - accuracy: 0.4726 - val_loss: 1.3168 - val_accuracy: 0.5411\n",
      "Epoch 5/20\n",
      "1406/1406 [==============================] - 1773s 1s/step - loss: 1.3325 - accuracy: 0.5219 - val_loss: 1.7964 - val_accuracy: 0.4615\n",
      "Epoch 6/20\n",
      "1406/1406 [==============================] - 1770s 1s/step - loss: 1.2058 - accuracy: 0.5723 - val_loss: 1.1314 - val_accuracy: 0.6134\n",
      "Epoch 7/20\n",
      "1406/1406 [==============================] - 1774s 1s/step - loss: 1.0877 - accuracy: 0.6168 - val_loss: 0.9419 - val_accuracy: 0.6803\n",
      "Epoch 8/20\n",
      "1406/1406 [==============================] - 1773s 1s/step - loss: 1.0010 - accuracy: 0.6526 - val_loss: 1.1638 - val_accuracy: 0.6324\n",
      "Epoch 9/20\n",
      "1406/1406 [==============================] - 1774s 1s/step - loss: 0.9396 - accuracy: 0.6727 - val_loss: 0.8896 - val_accuracy: 0.7135\n",
      "Epoch 10/20\n",
      "1406/1406 [==============================] - 1773s 1s/step - loss: 0.8752 - accuracy: 0.6936 - val_loss: 0.9412 - val_accuracy: 0.7003\n",
      "Epoch 11/20\n",
      "1406/1406 [==============================] - 1776s 1s/step - loss: 0.8272 - accuracy: 0.7125 - val_loss: 0.7820 - val_accuracy: 0.7548\n",
      "Epoch 12/20\n",
      "1406/1406 [==============================] - 1775s 1s/step - loss: 0.7936 - accuracy: 0.7284 - val_loss: 0.7541 - val_accuracy: 0.7486\n",
      "Epoch 13/20\n",
      "1406/1406 [==============================] - 1775s 1s/step - loss: 0.7482 - accuracy: 0.7413 - val_loss: 0.7782 - val_accuracy: 0.7578\n",
      "Epoch 14/20\n",
      "1406/1406 [==============================] - 1775s 1s/step - loss: 0.7099 - accuracy: 0.7570 - val_loss: 0.8303 - val_accuracy: 0.7384\n",
      "Epoch 15/20\n",
      "1406/1406 [==============================] - 1775s 1s/step - loss: 0.6875 - accuracy: 0.7628 - val_loss: 0.7120 - val_accuracy: 0.7800\n",
      "Epoch 16/20\n",
      "1406/1406 [==============================] - 1775s 1s/step - loss: 0.6621 - accuracy: 0.7732 - val_loss: 0.7849 - val_accuracy: 0.7945\n",
      "Epoch 17/20\n",
      "1406/1406 [==============================] - 1773s 1s/step - loss: 0.6449 - accuracy: 0.7758 - val_loss: 0.7731 - val_accuracy: 0.7708\n",
      "Epoch 18/20\n",
      "1406/1406 [==============================] - 1775s 1s/step - loss: 0.6114 - accuracy: 0.7892 - val_loss: 0.5618 - val_accuracy: 0.8201\n",
      "Epoch 19/20\n",
      "1406/1406 [==============================] - 1776s 1s/step - loss: 0.5913 - accuracy: 0.7993 - val_loss: 0.5342 - val_accuracy: 0.8269\n",
      "Epoch 20/20\n",
      "1406/1406 [==============================] - 1778s 1s/step - loss: 0.5756 - accuracy: 0.8045 - val_loss: 0.4953 - val_accuracy: 0.8407\n"
     ]
    }
   ],
   "source": [
    "epochs = 20\n",
    "history = model.fit_generator(train_generator,steps_per_epoch = train_num // batch_size,epochs=epochs,\n",
    "                            validation_data = valid_generator,va\n",
    "                              \n",
    "                              \n",
    "                              lidation_steps=valid_num // batch_size)"
   ]
  },
  {
   "cell_type": "code",
   "execution_count": 9,
   "metadata": {},
   "outputs": [
    {
     "name": "stdout",
     "output_type": "stream",
     "text": [
      "dict_keys(['loss', 'accuracy', 'val_loss', 'val_accuracy'])\n"
     ]
    }
   ],
   "source": [
    "print(history.history.keys())"
   ]
  },
  {
   "cell_type": "code",
   "execution_count": 11,
   "metadata": {},
   "outputs": [
    {
     "data": {
      "image/png": "[encoded data removed]",
      "text/plain": [
       "<Figure size 576x360 with 1 Axes>"
      ]
     },
     "metadata": {
      "needs_background": "light"
     },
     "output_type": "display_data"
    },
    {
     "data": {
      "image/png": "[encoded data removed]",
      "text/plain": [
       "<Figure size 576x360 with 1 Axes>"
      ]
     },
     "metadata": {
      "needs_background": "light"
     },
     "output_type": "display_data"
    }
   ],
   "source": [
    "# 学习曲线\n",
    "def plot_learning_curves(hsitory,label,epochs,min_value,max_value):\n",
    "    data = {}\n",
    "    data[label] = history.history[label]\n",
    "    data['val_' + label] = hsitory.history['val_' + label]\n",
    "    pd.DataFrame(data).plot(figsize=(8,5))\n",
    "    plt.grid(True)\n",
    "    plt.axis([0,epochs,min_value,max_value])\n",
    "    plt.show()\n",
    "\n",
    "plot_learning_curves(history,'accuracy',epochs,0,1)\n",
    "plot_learning_curves(history,'loss',epochs,0,2.5)"
   ]
  },
  {
   "cell_type": "code",
   "execution_count": 12,
   "metadata": {},
   "outputs": [
    {
     "name": "stdout",
     "output_type": "stream",
     "text": [
      "Found 300000 validated image filenames belonging to 10 classes.\n",
      "300000\n"
     ]
    }
   ],
   "source": [
    "test_datagen = keras.preprocessing.image.ImageDataGenerator(rescale=1./255)\n",
    "test_generator = test_datagen.flow_from_dataframe(test_df,directory='./',x_col='filepath',y_col='class',classes=class_names,\n",
    "                                                    target_size=(height,width),batch_size=batch_size,seed=7,shuffle=False,\n",
    "                                                    class_mode=\"sparse\")\n",
    "test_num = test_generator.samples\n",
    "print(test_num)"
   ]
  },
  {
   "cell_type": "code",
   "execution_count": null,
   "metadata": {},
   "outputs": [],
   "source": [
    "test_predict = model.predict_generator(test_generator,workers=10,use_multiprocessing=False)\n",
    "# True 进程； False:线程"
   ]
  },
  {
   "cell_type": "code",
   "execution_count": null,
   "metadata": {},
   "outputs": [],
   "source": [
    "print(test_predict.shape)"
   ]
  },
  {
   "cell_type": "code",
   "execution_count": null,
   "metadata": {},
   "outputs": [],
   "source": [
    "print(test_predict[0:5])"
   ]
  },
  {
   "cell_type": "code",
   "execution_count": null,
   "metadata": {},
   "outputs": [],
   "source": [
    "test_predict_class_indices = np.argmax(test_predict,axis=1)\n",
    "print(test_predict_class_indices[0:5])"
   ]
  },
  {
   "cell_type": "code",
   "execution_count": null,
   "metadata": {},
   "outputs": [],
   "source": [
    "test_predict_class=[class_names[index] for index in test_predict_class_indices]\n",
    "print(test_predict_class[0:5])"
   ]
  },
  {
   "cell_type": "code",
   "execution_count": null,
   "metadata": {},
   "outputs": [],
   "source": [
    "\n"
   ]
  },
  {
   "cell_type": "code",
   "execution_count": null,
   "metadata": {},
   "outputs": [],
   "source": []
  }
 ],
 "metadata": {
  "kernelspec": {
   "display_name": "Python 3",
   "language": "python",
   "name": "python3"
  },
  "language_info": {
   "codemirror_mode": {
    "name": "ipython",
    "version": 3
   },
   "file_extension": ".py",
   "mimetype": "text/x-python",
   "name": "python",
   "nbconvert_exporter": "python",
   "pygments_lexer": "ipython3",
   "version": "3.7.3"
  }
 },
 "nbformat": 4,
 "nbformat_minor": 1
}
