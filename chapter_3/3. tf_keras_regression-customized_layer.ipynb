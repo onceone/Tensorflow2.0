{
 "cells": [
  {
   "cell_type": "code",
   "execution_count": 1,
   "metadata": {},
   "outputs": [
    {
     "name": "stdout",
     "output_type": "stream",
     "text": [
      "2.0.0\n",
      "sys.version_info(major=3, minor=7, micro=4, releaselevel='final', serial=0)\n",
      "matplotlib 3.1.1\n",
      "numpy 1.16.5\n",
      "pandas 0.25.2\n",
      "sklearn 0.21.3\n",
      "tensorflow 2.0.0\n",
      "tensorflow_core.keras 2.2.4-tf\n"
     ]
    }
   ],
   "source": [
    "import matplotlib as mpl\n",
    "import matplotlib.pyplot as plt\n",
    "%matplotlib inline\n",
    "import numpy as np\n",
    "import sklearn\n",
    "import pandas as pd\n",
    "import os\n",
    "import sys\n",
    "import time\n",
    "import tensorflow as tf\n",
    "from tensorflow import keras\n",
    "\n",
    "print(tf.__version__)\n",
    "print(sys.version_info)\n",
    "for module in mpl,np,pd,sklearn,tf,keras:\n",
    "    print(module.__name__,module.__version__)"
   ]
  },
  {
   "cell_type": "code",
   "execution_count": 2,
   "metadata": {},
   "outputs": [
    {
     "data": {
      "text/plain": [
       "<tf.Tensor: id=29, shape=(10, 100), dtype=float32, numpy=\n",
       "array([[0., 0., 0., 0., 0., 0., 0., 0., 0., 0., 0., 0., 0., 0., 0., 0.,\n",
       "        0., 0., 0., 0., 0., 0., 0., 0., 0., 0., 0., 0., 0., 0., 0., 0.,\n",
       "        0., 0., 0., 0., 0., 0., 0., 0., 0., 0., 0., 0., 0., 0., 0., 0.,\n",
       "        0., 0., 0., 0., 0., 0., 0., 0., 0., 0., 0., 0., 0., 0., 0., 0.,\n",
       "        0., 0., 0., 0., 0., 0., 0., 0., 0., 0., 0., 0., 0., 0., 0., 0.,\n",
       "        0., 0., 0., 0., 0., 0., 0., 0., 0., 0., 0., 0., 0., 0., 0., 0.,\n",
       "        0., 0., 0., 0.],\n",
       "       [0., 0., 0., 0., 0., 0., 0., 0., 0., 0., 0., 0., 0., 0., 0., 0.,\n",
       "        0., 0., 0., 0., 0., 0., 0., 0., 0., 0., 0., 0., 0., 0., 0., 0.,\n",
       "        0., 0., 0., 0., 0., 0., 0., 0., 0., 0., 0., 0., 0., 0., 0., 0.,\n",
       "        0., 0., 0., 0., 0., 0., 0., 0., 0., 0., 0., 0., 0., 0., 0., 0.,\n",
       "        0., 0., 0., 0., 0., 0., 0., 0., 0., 0., 0., 0., 0., 0., 0., 0.,\n",
       "        0., 0., 0., 0., 0., 0., 0., 0., 0., 0., 0., 0., 0., 0., 0., 0.,\n",
       "        0., 0., 0., 0.],\n",
       "       [0., 0., 0., 0., 0., 0., 0., 0., 0., 0., 0., 0., 0., 0., 0., 0.,\n",
       "        0., 0., 0., 0., 0., 0., 0., 0., 0., 0., 0., 0., 0., 0., 0., 0.,\n",
       "        0., 0., 0., 0., 0., 0., 0., 0., 0., 0., 0., 0., 0., 0., 0., 0.,\n",
       "        0., 0., 0., 0., 0., 0., 0., 0., 0., 0., 0., 0., 0., 0., 0., 0.,\n",
       "        0., 0., 0., 0., 0., 0., 0., 0., 0., 0., 0., 0., 0., 0., 0., 0.,\n",
       "        0., 0., 0., 0., 0., 0., 0., 0., 0., 0., 0., 0., 0., 0., 0., 0.,\n",
       "        0., 0., 0., 0.],\n",
       "       [0., 0., 0., 0., 0., 0., 0., 0., 0., 0., 0., 0., 0., 0., 0., 0.,\n",
       "        0., 0., 0., 0., 0., 0., 0., 0., 0., 0., 0., 0., 0., 0., 0., 0.,\n",
       "        0., 0., 0., 0., 0., 0., 0., 0., 0., 0., 0., 0., 0., 0., 0., 0.,\n",
       "        0., 0., 0., 0., 0., 0., 0., 0., 0., 0., 0., 0., 0., 0., 0., 0.,\n",
       "        0., 0., 0., 0., 0., 0., 0., 0., 0., 0., 0., 0., 0., 0., 0., 0.,\n",
       "        0., 0., 0., 0., 0., 0., 0., 0., 0., 0., 0., 0., 0., 0., 0., 0.,\n",
       "        0., 0., 0., 0.],\n",
       "       [0., 0., 0., 0., 0., 0., 0., 0., 0., 0., 0., 0., 0., 0., 0., 0.,\n",
       "        0., 0., 0., 0., 0., 0., 0., 0., 0., 0., 0., 0., 0., 0., 0., 0.,\n",
       "        0., 0., 0., 0., 0., 0., 0., 0., 0., 0., 0., 0., 0., 0., 0., 0.,\n",
       "        0., 0., 0., 0., 0., 0., 0., 0., 0., 0., 0., 0., 0., 0., 0., 0.,\n",
       "        0., 0., 0., 0., 0., 0., 0., 0., 0., 0., 0., 0., 0., 0., 0., 0.,\n",
       "        0., 0., 0., 0., 0., 0., 0., 0., 0., 0., 0., 0., 0., 0., 0., 0.,\n",
       "        0., 0., 0., 0.],\n",
       "       [0., 0., 0., 0., 0., 0., 0., 0., 0., 0., 0., 0., 0., 0., 0., 0.,\n",
       "        0., 0., 0., 0., 0., 0., 0., 0., 0., 0., 0., 0., 0., 0., 0., 0.,\n",
       "        0., 0., 0., 0., 0., 0., 0., 0., 0., 0., 0., 0., 0., 0., 0., 0.,\n",
       "        0., 0., 0., 0., 0., 0., 0., 0., 0., 0., 0., 0., 0., 0., 0., 0.,\n",
       "        0., 0., 0., 0., 0., 0., 0., 0., 0., 0., 0., 0., 0., 0., 0., 0.,\n",
       "        0., 0., 0., 0., 0., 0., 0., 0., 0., 0., 0., 0., 0., 0., 0., 0.,\n",
       "        0., 0., 0., 0.],\n",
       "       [0., 0., 0., 0., 0., 0., 0., 0., 0., 0., 0., 0., 0., 0., 0., 0.,\n",
       "        0., 0., 0., 0., 0., 0., 0., 0., 0., 0., 0., 0., 0., 0., 0., 0.,\n",
       "        0., 0., 0., 0., 0., 0., 0., 0., 0., 0., 0., 0., 0., 0., 0., 0.,\n",
       "        0., 0., 0., 0., 0., 0., 0., 0., 0., 0., 0., 0., 0., 0., 0., 0.,\n",
       "        0., 0., 0., 0., 0., 0., 0., 0., 0., 0., 0., 0., 0., 0., 0., 0.,\n",
       "        0., 0., 0., 0., 0., 0., 0., 0., 0., 0., 0., 0., 0., 0., 0., 0.,\n",
       "        0., 0., 0., 0.],\n",
       "       [0., 0., 0., 0., 0., 0., 0., 0., 0., 0., 0., 0., 0., 0., 0., 0.,\n",
       "        0., 0., 0., 0., 0., 0., 0., 0., 0., 0., 0., 0., 0., 0., 0., 0.,\n",
       "        0., 0., 0., 0., 0., 0., 0., 0., 0., 0., 0., 0., 0., 0., 0., 0.,\n",
       "        0., 0., 0., 0., 0., 0., 0., 0., 0., 0., 0., 0., 0., 0., 0., 0.,\n",
       "        0., 0., 0., 0., 0., 0., 0., 0., 0., 0., 0., 0., 0., 0., 0., 0.,\n",
       "        0., 0., 0., 0., 0., 0., 0., 0., 0., 0., 0., 0., 0., 0., 0., 0.,\n",
       "        0., 0., 0., 0.],\n",
       "       [0., 0., 0., 0., 0., 0., 0., 0., 0., 0., 0., 0., 0., 0., 0., 0.,\n",
       "        0., 0., 0., 0., 0., 0., 0., 0., 0., 0., 0., 0., 0., 0., 0., 0.,\n",
       "        0., 0., 0., 0., 0., 0., 0., 0., 0., 0., 0., 0., 0., 0., 0., 0.,\n",
       "        0., 0., 0., 0., 0., 0., 0., 0., 0., 0., 0., 0., 0., 0., 0., 0.,\n",
       "        0., 0., 0., 0., 0., 0., 0., 0., 0., 0., 0., 0., 0., 0., 0., 0.,\n",
       "        0., 0., 0., 0., 0., 0., 0., 0., 0., 0., 0., 0., 0., 0., 0., 0.,\n",
       "        0., 0., 0., 0.],\n",
       "       [0., 0., 0., 0., 0., 0., 0., 0., 0., 0., 0., 0., 0., 0., 0., 0.,\n",
       "        0., 0., 0., 0., 0., 0., 0., 0., 0., 0., 0., 0., 0., 0., 0., 0.,\n",
       "        0., 0., 0., 0., 0., 0., 0., 0., 0., 0., 0., 0., 0., 0., 0., 0.,\n",
       "        0., 0., 0., 0., 0., 0., 0., 0., 0., 0., 0., 0., 0., 0., 0., 0.,\n",
       "        0., 0., 0., 0., 0., 0., 0., 0., 0., 0., 0., 0., 0., 0., 0., 0.,\n",
       "        0., 0., 0., 0., 0., 0., 0., 0., 0., 0., 0., 0., 0., 0., 0., 0.,\n",
       "        0., 0., 0., 0.]], dtype=float32)>"
      ]
     },
     "execution_count": 2,
     "metadata": {},
     "output_type": "execute_result"
    }
   ],
   "source": [
    "# layer的简单使用\n",
    "layer = tf.keras.layers.Dense(100)\n",
    "layer = tf.keras.layers.Dense(100,input_shape=[None,5])\n",
    "layer(tf.zeros([10,5]))"
   ]
  },
  {
   "cell_type": "code",
   "execution_count": 3,
   "metadata": {},
   "outputs": [
    {
     "data": {
      "text/plain": [
       "[<tf.Variable 'dense_1/kernel:0' shape=(5, 100) dtype=float32, numpy=\n",
       " array([[-0.12055848, -0.22332491, -0.2154498 , -0.00450221,  0.13271461,\n",
       "          0.08795674,  0.02099876,  0.15230434, -0.2218704 ,  0.2351617 ,\n",
       "         -0.0971802 ,  0.03206395,  0.16929753,  0.16598608, -0.19390771,\n",
       "         -0.10553285, -0.17661229,  0.23258348, -0.12843148, -0.16263244,\n",
       "         -0.06755978,  0.1398087 ,  0.16919215, -0.1374251 , -0.10259596,\n",
       "          0.22019438,  0.01355328, -0.21319167,  0.11235292, -0.04362975,\n",
       "         -0.08432817, -0.22759014,  0.09022109,  0.02126913,  0.10384877,\n",
       "         -0.16077921, -0.03300045,  0.2007324 , -0.0219163 , -0.04117848,\n",
       "         -0.18533689,  0.21882771,  0.05150668, -0.19967443, -0.10322209,\n",
       "          0.23027383,  0.12974484, -0.00309466, -0.14830089,  0.22305317,\n",
       "         -0.0386553 , -0.19641067, -0.01095103,  0.1316484 , -0.18637325,\n",
       "          0.07125412, -0.11774645, -0.06602405, -0.09606428,  0.06434362,\n",
       "          0.04015072, -0.12213457, -0.2335524 , -0.01597215,  0.15893458,\n",
       "         -0.06172597, -0.05192462, -0.01552522,  0.18139543,  0.21549346,\n",
       "          0.11329176, -0.03293651, -0.16948555, -0.10502049,  0.19318943,\n",
       "          0.20933484,  0.03230946,  0.04778419,  0.19637556,  0.12553118,\n",
       "          0.19260891,  0.15213262, -0.23501341,  0.1796919 , -0.03809687,\n",
       "         -0.02458276, -0.01621683, -0.19845866, -0.05819742, -0.16629058,\n",
       "         -0.19444083,  0.13109459, -0.0646667 , -0.10562137, -0.12719828,\n",
       "         -0.16401486, -0.06576513,  0.04986204,  0.01263414,  0.00753486],\n",
       "        [-0.13223878, -0.03817798,  0.15439753, -0.20730744,  0.06823348,\n",
       "          0.19245256, -0.15775248, -0.12642944, -0.08180481, -0.08476675,\n",
       "          0.12824433,  0.08676241, -0.01865487, -0.22325988,  0.01147883,\n",
       "         -0.12437308, -0.14407371, -0.09962542,  0.03741021,  0.10551994,\n",
       "         -0.19453081,  0.15254919,  0.0106782 ,  0.22686954,  0.0692911 ,\n",
       "          0.21729533,  0.13199256,  0.1011932 ,  0.15690036, -0.17419499,\n",
       "          0.0980408 , -0.03629088, -0.05121164,  0.02177621,  0.22426243,\n",
       "          0.11538564, -0.21417378, -0.00546682, -0.05943567,  0.12947087,\n",
       "         -0.02377318, -0.07671894,  0.10224415,  0.14436294,  0.1296627 ,\n",
       "         -0.15213564, -0.11732168, -0.21056886, -0.1855396 , -0.01227874,\n",
       "          0.11651148,  0.0617175 , -0.00624216,  0.08749853,  0.0219558 ,\n",
       "          0.20868011, -0.04598299,  0.22680645, -0.19182986,  0.16329698,\n",
       "         -0.07924436, -0.02518108, -0.08053587, -0.127956  ,  0.1505893 ,\n",
       "          0.18249385,  0.07318823, -0.18936726, -0.22427395,  0.05146863,\n",
       "         -0.07129316,  0.06098564, -0.1942658 ,  0.1322651 ,  0.02540351,\n",
       "         -0.2193313 , -0.09757414,  0.0965917 ,  0.06103282, -0.16259369,\n",
       "          0.05670913, -0.17148532,  0.14127861,  0.07946737, -0.17079416,\n",
       "         -0.20105799,  0.06548466,  0.16609676, -0.1787521 , -0.07229441,\n",
       "          0.2137988 ,  0.10660557,  0.12347065, -0.14351848, -0.12594044,\n",
       "         -0.10462701, -0.17519647, -0.00733677,  0.04556374,  0.15851407],\n",
       "        [-0.22671273, -0.21735318,  0.15747656, -0.10912603,  0.03182189,\n",
       "          0.00093029,  0.09013571, -0.2090101 , -0.13731173, -0.21230982,\n",
       "         -0.15462494,  0.12561752, -0.18439063, -0.23270606, -0.07296681,\n",
       "          0.13089044, -0.20553628, -0.20943949, -0.23402648, -0.12230565,\n",
       "         -0.03136128,  0.19559528, -0.06249088, -0.07965316, -0.0876389 ,\n",
       "          0.08373739,  0.03025778,  0.03410645, -0.04276255, -0.06779875,\n",
       "          0.21562989, -0.20056826, -0.12070968, -0.19209574,  0.11398925,\n",
       "         -0.04146686, -0.0948493 ,  0.23766227,  0.00799143, -0.12096415,\n",
       "          0.22683863,  0.19902442,  0.12659188, -0.22722836,  0.08051594,\n",
       "         -0.19425765,  0.22728233,  0.05800794, -0.11205433,  0.1648951 ,\n",
       "          0.05944727,  0.12750377, -0.1705629 ,  0.23288189, -0.22006531,\n",
       "          0.17375062,  0.0110005 ,  0.22463284, -0.19698562, -0.0300566 ,\n",
       "          0.09414928,  0.19577025, -0.10489266, -0.0078025 ,  0.08783235,\n",
       "         -0.09645224,  0.05081461, -0.23598196, -0.08970347, -0.09016979,\n",
       "         -0.16568959,  0.05824314,  0.05321278, -0.21363445, -0.2268937 ,\n",
       "         -0.14025877, -0.14571187, -0.08614637, -0.09955351, -0.02819595,\n",
       "         -0.15383506, -0.03199823, -0.20122498,  0.11623551,  0.14218338,\n",
       "         -0.17315032,  0.0551777 ,  0.1612084 , -0.0419789 ,  0.03619559,\n",
       "         -0.07280591, -0.08457445, -0.21033679,  0.13897063,  0.08239095,\n",
       "         -0.15747702, -0.21454053, -0.02535765,  0.16078849,  0.18442814],\n",
       "        [-0.08963794, -0.17661092, -0.10558033, -0.13883498, -0.00758918,\n",
       "          0.11751597,  0.00124684,  0.20201968,  0.03887694,  0.18307193,\n",
       "          0.06616344,  0.01708175, -0.14588815,  0.10351707,  0.21763216,\n",
       "          0.16501479, -0.02930896,  0.22714098, -0.05248258, -0.02132449,\n",
       "          0.2367924 , -0.07213198, -0.1988315 , -0.12508783, -0.12089047,\n",
       "          0.18090849,  0.02216159,  0.03279857, -0.16455977,  0.14841048,\n",
       "          0.16665636,  0.22609322, -0.21804735,  0.18563138,  0.20358671,\n",
       "          0.17381264,  0.20117374,  0.08074401,  0.12513848,  0.1007777 ,\n",
       "          0.12596466, -0.16142368, -0.1507302 ,  0.08781661, -0.05513936,\n",
       "         -0.0534192 ,  0.2346827 , -0.08793293, -0.19444579,  0.21967782,\n",
       "          0.1447997 ,  0.07320391, -0.01498607, -0.03627767, -0.11580453,\n",
       "          0.01280569, -0.13882193, -0.1750239 , -0.09953435, -0.16818777,\n",
       "          0.23574583,  0.08345966, -0.17458494,  0.18855672, -0.05947903,\n",
       "          0.12240203,  0.1809331 ,  0.09308879, -0.02160175, -0.07105185,\n",
       "          0.01989527,  0.14502807, -0.14149678,  0.19837107,  0.19777583,\n",
       "          0.10122357,  0.05676736,  0.01630746, -0.2266374 , -0.0388685 ,\n",
       "          0.08266582, -0.04203127, -0.02832419, -0.22501634,  0.10019638,\n",
       "          0.02525677,  0.08227484, -0.00061245, -0.06028673,  0.12264659,\n",
       "          0.08410563,  0.03721844, -0.08834715, -0.00614527,  0.09718902,\n",
       "          0.07284372, -0.23813851, -0.06947491, -0.11429553,  0.14374606],\n",
       "        [ 0.16917945, -0.08624451,  0.01609726,  0.01200984, -0.18752564,\n",
       "          0.06886224,  0.23426162, -0.01118401,  0.01022431,  0.04405709,\n",
       "          0.03544299, -0.0865187 ,  0.1661347 , -0.17925102, -0.19166966,\n",
       "         -0.23466286, -0.18370734, -0.04015511,  0.22312538,  0.14087059,\n",
       "          0.22818725,  0.11953448, -0.03276633, -0.16581105, -0.12738112,\n",
       "          0.07104991,  0.18042801, -0.03250462, -0.15230599,  0.20058809,\n",
       "         -0.07649051, -0.0978725 ,  0.1996542 ,  0.13625701, -0.14262787,\n",
       "         -0.13567843, -0.21137679, -0.17703444,  0.19072317, -0.14945054,\n",
       "         -0.21722034,  0.08608891,  0.22446962, -0.03896008, -0.03951041,\n",
       "          0.05101405,  0.12531431, -0.11519749, -0.21220496, -0.22612463,\n",
       "         -0.12190551,  0.23726322, -0.07180221,  0.11677004, -0.0981749 ,\n",
       "         -0.08916147, -0.13195178,  0.07562576,  0.14636944, -0.09099379,\n",
       "         -0.08900696, -0.1987435 , -0.10739431,  0.06675972, -0.0764183 ,\n",
       "         -0.1580143 , -0.13033032, -0.2342211 , -0.19859368,  0.13191141,\n",
       "         -0.15869462,  0.07519411,  0.18428828,  0.12788214, -0.21783717,\n",
       "          0.21448024,  0.07216026,  0.15002464,  0.231508  ,  0.0819061 ,\n",
       "          0.07875468,  0.15403716, -0.22421764, -0.23204699, -0.22561266,\n",
       "         -0.02553125,  0.1834295 ,  0.12997319, -0.2272911 ,  0.11640505,\n",
       "          0.09507056,  0.20831792, -0.02519555,  0.02028881,  0.03553186,\n",
       "          0.16024546,  0.09148096,  0.21354349,  0.16917826, -0.11798633]],\n",
       "       dtype=float32)>,\n",
       " <tf.Variable 'dense_1/bias:0' shape=(100,) dtype=float32, numpy=\n",
       " array([0., 0., 0., 0., 0., 0., 0., 0., 0., 0., 0., 0., 0., 0., 0., 0., 0.,\n",
       "        0., 0., 0., 0., 0., 0., 0., 0., 0., 0., 0., 0., 0., 0., 0., 0., 0.,\n",
       "        0., 0., 0., 0., 0., 0., 0., 0., 0., 0., 0., 0., 0., 0., 0., 0., 0.,\n",
       "        0., 0., 0., 0., 0., 0., 0., 0., 0., 0., 0., 0., 0., 0., 0., 0., 0.,\n",
       "        0., 0., 0., 0., 0., 0., 0., 0., 0., 0., 0., 0., 0., 0., 0., 0., 0.,\n",
       "        0., 0., 0., 0., 0., 0., 0., 0., 0., 0., 0., 0., 0., 0., 0.],\n",
       "       dtype=float32)>]"
      ]
     },
     "execution_count": 3,
     "metadata": {},
     "output_type": "execute_result"
    }
   ],
   "source": [
    "# layer.variables\n",
    "layer.trainable_variables"
   ]
  },
  {
   "cell_type": "code",
   "execution_count": 4,
   "metadata": {},
   "outputs": [
    {
     "name": "stdout",
     "output_type": "stream",
     "text": [
      ".. _california_housing_dataset:\n",
      "\n",
      "California Housing dataset\n",
      "--------------------------\n",
      "\n",
      "**Data Set Characteristics:**\n",
      "\n",
      "    :Number of Instances: 20640\n",
      "\n",
      "    :Number of Attributes: 8 numeric, predictive attributes and the target\n",
      "\n",
      "    :Attribute Information:\n",
      "        - MedInc        median income in block\n",
      "        - HouseAge      median house age in block\n",
      "        - AveRooms      average number of rooms\n",
      "        - AveBedrms     average number of bedrooms\n",
      "        - Population    block population\n",
      "        - AveOccup      average house occupancy\n",
      "        - Latitude      house block latitude\n",
      "        - Longitude     house block longitude\n",
      "\n",
      "    :Missing Attribute Values: None\n",
      "\n",
      "This dataset was obtained from the StatLib repository.\n",
      "http://lib.stat.cmu.edu/datasets/\n",
      "\n",
      "The target variable is the median house value for California districts.\n",
      "\n",
      "This dataset was derived from the 1990 U.S. census, using one row per census\n",
      "block group. A block group is the smallest geographical unit for which the U.S.\n",
      "Census Bureau publishes sample data (a block group typically has a population\n",
      "of 600 to 3,000 people).\n",
      "\n",
      "It can be downloaded/loaded using the\n",
      ":func:`sklearn.datasets.fetch_california_housing` function.\n",
      "\n",
      ".. topic:: References\n",
      "\n",
      "    - Pace, R. Kelley and Ronald Barry, Sparse Spatial Autoregressions,\n",
      "      Statistics and Probability Letters, 33 (1997) 291-297\n",
      "\n",
      "(20640, 8)\n",
      "(20640,)\n"
     ]
    }
   ],
   "source": [
    "from sklearn.datasets import fetch_california_housing\n",
    "\n",
    "# 房价预测\n",
    "housing = fetch_california_housing()\n",
    "print(housing.DESCR)\n",
    "print(housing.data.shape)\n",
    "print(housing.target.shape)"
   ]
  },
  {
   "cell_type": "code",
   "execution_count": 5,
   "metadata": {},
   "outputs": [
    {
     "name": "stdout",
     "output_type": "stream",
     "text": [
      "(11610, 8) (11610,)\n",
      "(3870, 8) (3870,)\n",
      "(5160, 8) (5160,)\n"
     ]
    }
   ],
   "source": [
    "# 划分样本\n",
    "from sklearn.model_selection import train_test_split\n",
    "\n",
    "x_train_all,x_test,y_train_all,y_test = train_test_split(housing.data,housing.target,random_state=7)\n",
    "x_train,x_valid,y_train,y_valid = train_test_split(x_train_all,y_train_all,random_state=11)\n",
    "\n",
    "print(x_train.shape,y_train.shape)\n",
    "print(x_valid.shape,y_valid.shape)\n",
    "print(x_test.shape,y_test.shape)\n"
   ]
  },
  {
   "cell_type": "code",
   "execution_count": 6,
   "metadata": {},
   "outputs": [],
   "source": [
    "# 归一化\n",
    "from sklearn.preprocessing import StandardScaler\n",
    "\n",
    "scaler = StandardScaler()\n",
    "x_train_scaled = scaler.fit_transform(x_train)\n",
    "x_valid_scaled = scaler.transform(x_valid)\n",
    "x_test_scaled = scaler.transform(x_test)"
   ]
  },
  {
   "cell_type": "code",
   "execution_count": 23,
   "metadata": {},
   "outputs": [
    {
     "name": "stdout",
     "output_type": "stream",
     "text": [
      "tf.Tensor([4.5417706e-05 6.7153489e-03 6.9314718e-01 5.0067153e+00 1.0000046e+01], shape=(5,), dtype=float32)\n"
     ]
    }
   ],
   "source": [
    "# 没有参数层次的定义\n",
    "# tf.nn.softplus:log(1+e^x)\n",
    "customized_softplus = keras.layers.Lambda(lambda x : tf.nn.softplus(x))\n",
    "# 使用\n",
    "print(customized_softplus([-10.,-5.,0.,5.,10.]))"
   ]
  },
  {
   "cell_type": "code",
   "execution_count": 24,
   "metadata": {},
   "outputs": [
    {
     "name": "stdout",
     "output_type": "stream",
     "text": [
      "Model: \"sequential_10\"\n",
      "_________________________________________________________________\n",
      "Layer (type)                 Output Shape              Param #   \n",
      "=================================================================\n",
      "customized_dense_layer_4 (Cu (None, 30)                270       \n",
      "_________________________________________________________________\n",
      "customized_dense_layer_5 (Cu (None, 1)                 31        \n",
      "_________________________________________________________________\n",
      "lambda (Lambda)              (None, 1)                 0         \n",
      "=================================================================\n",
      "Total params: 301\n",
      "Trainable params: 301\n",
      "Non-trainable params: 0\n",
      "_________________________________________________________________\n"
     ]
    }
   ],
   "source": [
    "# customized dense layer\n",
    "class CustomizedDenseLayer(keras.layers.Layer):\n",
    "    \n",
    "    \n",
    "    def __init__(self,units,activation=None,**kwargs):\n",
    "        self.units = units\n",
    "        self.activation=keras.layers.Activation(activation)\n",
    "        super(CustomizedDenseLayer,self).__init__(**kwargs)\n",
    "    \n",
    "    def build(self,input_shape):\n",
    "        \"\"\"构建所需要的参数\"\"\"\n",
    "        \n",
    "        self.kernel = self.add_weight(name=\"kernel\",shape=(input_shape[1],self.units),initializer='uniform',trainable=True)\n",
    "        \n",
    "        self.bias = self.add_weight(name=\"bias\",shape=(self.units,),initializer='zeros',trainable=True)\n",
    "        \n",
    "#         super(CustomizedDenseLayer,self).build(input_shape)\n",
    "        super(CustomizedDenseLayer,self).build(input_shape)\n",
    "        \n",
    "    def call(self,x):\n",
    "        \"\"\"完成正向计算\"\"\"\n",
    "        return self.activation(x @ self.kernel + self.bias)\n",
    "        \n",
    "\n",
    "# 搭建模型\n",
    "model = keras.models.Sequential([\n",
    "    CustomizedDenseLayer(30,activation='relu',input_shape=x_train.shape[1:]),\n",
    "    CustomizedDenseLayer(1),\n",
    "    customized_softplus,# 自定义激活函数层,和一下两种情况等价\n",
    "    # keras.layers.Dense(1,activation=\"softplus\")\n",
    "    # keras.layers.Dense(1),keras.layers.Activation('softplus'),\n",
    "])\n",
    "\n",
    "# 打印model信息\n",
    "model.summary()\n",
    "# 编译\n",
    "model.compile(loss='mean_squared_error',optimizer=\"sgd\")\n",
    "# 回调函数\n",
    "callbacks = [keras.callbacks.EarlyStopping(patience=5,min_delta=1e-3)]\n"
   ]
  },
  {
   "cell_type": "code",
   "execution_count": 25,
   "metadata": {},
   "outputs": [
    {
     "name": "stdout",
     "output_type": "stream",
     "text": [
      "Train on 11610 samples, validate on 3870 samples\n",
      "Epoch 1/100\n",
      "11610/11610 [==============================] - 1s 115us/sample - loss: 1.2075 - val_loss: 0.6694\n",
      "Epoch 2/100\n",
      "11610/11610 [==============================] - 1s 89us/sample - loss: 0.5817 - val_loss: 0.5752\n",
      "Epoch 3/100\n",
      "11610/11610 [==============================] - 1s 88us/sample - loss: 0.5084 - val_loss: 0.5112\n",
      "Epoch 4/100\n",
      "11610/11610 [==============================] - 1s 82us/sample - loss: 0.4681 - val_loss: 0.4754\n",
      "Epoch 5/100\n",
      "11610/11610 [==============================] - 1s 87us/sample - loss: 0.4522 - val_loss: 0.4599\n",
      "Epoch 6/100\n",
      "11610/11610 [==============================] - 1s 87us/sample - loss: 0.4390 - val_loss: 0.4521\n",
      "Epoch 7/100\n",
      "11610/11610 [==============================] - 1s 87us/sample - loss: 0.4467 - val_loss: 0.4765\n",
      "Epoch 8/100\n",
      "11610/11610 [==============================] - 1s 85us/sample - loss: 0.4267 - val_loss: 0.4355\n",
      "Epoch 9/100\n",
      "11610/11610 [==============================] - 1s 88us/sample - loss: 0.4096 - val_loss: 0.4212\n",
      "Epoch 10/100\n",
      "11610/11610 [==============================] - 1s 87us/sample - loss: 0.3980 - val_loss: 0.4128\n",
      "Epoch 11/100\n",
      "11610/11610 [==============================] - 1s 84us/sample - loss: 0.3916 - val_loss: 0.4070\n",
      "Epoch 12/100\n",
      "11610/11610 [==============================] - 1s 84us/sample - loss: 0.3869 - val_loss: 0.3998\n",
      "Epoch 13/100\n",
      "11610/11610 [==============================] - 1s 80us/sample - loss: 0.3845 - val_loss: 0.3995\n",
      "Epoch 14/100\n",
      "11610/11610 [==============================] - 1s 79us/sample - loss: 0.3812 - val_loss: 0.3928\n",
      "Epoch 15/100\n",
      "11610/11610 [==============================] - 1s 82us/sample - loss: 0.3778 - val_loss: 0.3962\n",
      "Epoch 16/100\n",
      "11610/11610 [==============================] - 1s 75us/sample - loss: 0.3763 - val_loss: 0.3956\n",
      "Epoch 17/100\n",
      "11610/11610 [==============================] - 1s 81us/sample - loss: 0.3753 - val_loss: 0.3933\n",
      "Epoch 18/100\n",
      "11610/11610 [==============================] - 1s 78us/sample - loss: 0.3737 - val_loss: 0.3891\n",
      "Epoch 19/100\n",
      "11610/11610 [==============================] - 1s 80us/sample - loss: 0.3717 - val_loss: 0.3862\n",
      "Epoch 20/100\n",
      "11610/11610 [==============================] - 1s 78us/sample - loss: 0.3706 - val_loss: 0.3891\n",
      "Epoch 21/100\n",
      "11610/11610 [==============================] - 1s 77us/sample - loss: 0.3697 - val_loss: 0.3832\n",
      "Epoch 22/100\n",
      "11610/11610 [==============================] - 1s 84us/sample - loss: 0.3689 - val_loss: 0.3832\n",
      "Epoch 23/100\n",
      "11610/11610 [==============================] - 1s 83us/sample - loss: 0.3667 - val_loss: 0.3825\n",
      "Epoch 24/100\n",
      "11610/11610 [==============================] - 1s 80us/sample - loss: 0.3670 - val_loss: 0.3849\n",
      "Epoch 25/100\n",
      "11610/11610 [==============================] - 1s 88us/sample - loss: 0.3648 - val_loss: 0.3803\n",
      "Epoch 26/100\n",
      "11610/11610 [==============================] - 1s 81us/sample - loss: 0.3641 - val_loss: 0.3827\n",
      "Epoch 27/100\n",
      "11610/11610 [==============================] - 1s 84us/sample - loss: 0.3623 - val_loss: 0.3838\n",
      "Epoch 28/100\n",
      "11610/11610 [==============================] - 1s 80us/sample - loss: 0.3629 - val_loss: 0.3840\n",
      "Epoch 29/100\n",
      "11610/11610 [==============================] - 1s 76us/sample - loss: 0.3621 - val_loss: 0.3769\n",
      "Epoch 30/100\n",
      "11610/11610 [==============================] - 1s 86us/sample - loss: 0.3609 - val_loss: 0.3746\n",
      "Epoch 31/100\n",
      "11610/11610 [==============================] - 1s 78us/sample - loss: 0.3612 - val_loss: 0.3787\n",
      "Epoch 32/100\n",
      "11610/11610 [==============================] - 1s 81us/sample - loss: 0.3601 - val_loss: 0.3770\n",
      "Epoch 33/100\n",
      "11610/11610 [==============================] - 1s 82us/sample - loss: 0.3598 - val_loss: 0.3775\n",
      "Epoch 34/100\n",
      "11610/11610 [==============================] - 1s 88us/sample - loss: 0.3585 - val_loss: 0.3707\n",
      "Epoch 35/100\n",
      "11610/11610 [==============================] - 1s 86us/sample - loss: 0.3574 - val_loss: 0.3794\n",
      "Epoch 36/100\n",
      "11610/11610 [==============================] - 1s 80us/sample - loss: 0.3578 - val_loss: 0.3748\n",
      "Epoch 37/100\n",
      "11610/11610 [==============================] - 1s 81us/sample - loss: 0.3571 - val_loss: 0.3816\n",
      "Epoch 38/100\n",
      "11610/11610 [==============================] - 1s 75us/sample - loss: 0.3567 - val_loss: 0.3695\n",
      "Epoch 39/100\n",
      "11610/11610 [==============================] - 1s 74us/sample - loss: 0.3555 - val_loss: 0.3714\n",
      "Epoch 40/100\n",
      "11610/11610 [==============================] - 1s 76us/sample - loss: 0.3544 - val_loss: 0.3747\n",
      "Epoch 41/100\n",
      "11610/11610 [==============================] - 1s 82us/sample - loss: 0.3539 - val_loss: 0.3680\n",
      "Epoch 42/100\n",
      "11610/11610 [==============================] - 1s 83us/sample - loss: 0.3544 - val_loss: 0.3681\n",
      "Epoch 43/100\n",
      "11610/11610 [==============================] - 1s 80us/sample - loss: 0.3524 - val_loss: 0.3716\n",
      "Epoch 44/100\n",
      "11610/11610 [==============================] - 1s 79us/sample - loss: 0.3522 - val_loss: 0.3696\n",
      "Epoch 45/100\n",
      "11610/11610 [==============================] - 1s 77us/sample - loss: 0.3520 - val_loss: 0.3660\n",
      "Epoch 46/100\n",
      "11610/11610 [==============================] - 1s 78us/sample - loss: 0.3517 - val_loss: 0.3654\n",
      "Epoch 47/100\n",
      "11610/11610 [==============================] - 1s 76us/sample - loss: 0.3503 - val_loss: 0.3663\n",
      "Epoch 48/100\n",
      "11610/11610 [==============================] - 1s 77us/sample - loss: 0.3507 - val_loss: 0.3678\n",
      "Epoch 49/100\n",
      "11610/11610 [==============================] - 1s 84us/sample - loss: 0.3492 - val_loss: 0.3653\n",
      "Epoch 50/100\n",
      "11610/11610 [==============================] - 1s 84us/sample - loss: 0.3481 - val_loss: 0.3627\n",
      "Epoch 51/100\n",
      "11610/11610 [==============================] - 1s 84us/sample - loss: 0.3475 - val_loss: 0.3611\n",
      "Epoch 52/100\n",
      "11610/11610 [==============================] - 1s 84us/sample - loss: 0.3472 - val_loss: 0.3667\n",
      "Epoch 53/100\n",
      "11610/11610 [==============================] - 1s 89us/sample - loss: 0.3462 - val_loss: 0.3658\n",
      "Epoch 54/100\n",
      "11610/11610 [==============================] - 1s 80us/sample - loss: 0.3459 - val_loss: 0.3633\n",
      "Epoch 55/100\n",
      "11610/11610 [==============================] - 1s 84us/sample - loss: 0.3454 - val_loss: 0.3610\n",
      "Epoch 56/100\n",
      "11610/11610 [==============================] - 1s 85us/sample - loss: 0.3450 - val_loss: 0.3616\n"
     ]
    }
   ],
   "source": [
    "#训练\n",
    "history = model.fit(x_train_scaled,y_train,validation_data=(x_valid_scaled,y_valid),epochs=100,callbacks=callbacks)"
   ]
  },
  {
   "cell_type": "code",
   "execution_count": null,
   "metadata": {},
   "outputs": [],
   "source": []
  },
  {
   "cell_type": "code",
   "execution_count": 20,
   "metadata": {},
   "outputs": [
    {
     "data": {
      "image/png": "[encoded data removed]",
      "text/plain": [
       "<Figure size 576x360 with 1 Axes>"
      ]
     },
     "metadata": {
      "needs_background": "light"
     },
     "output_type": "display_data"
    }
   ],
   "source": [
    "# 学习曲线\n",
    "def plot_learning_curves(history):\n",
    "    pd.DataFrame(history.history).plot(figsize=(8,5))\n",
    "    plt.grid(True)\n",
    "    plt.gca().set_ylim(0,1)\n",
    "    plt.show()\n",
    "plot_learning_curves(history)\n"
   ]
  },
  {
   "cell_type": "code",
   "execution_count": 26,
   "metadata": {},
   "outputs": [
    {
     "data": {
      "image/png": "[encoded data removed]",
      "text/plain": [
       "<Figure size 576x360 with 1 Axes>"
      ]
     },
     "metadata": {
      "needs_background": "light"
     },
     "output_type": "display_data"
    }
   ],
   "source": [
    "plot_learning_curves(history)"
   ]
  },
  {
   "cell_type": "code",
   "execution_count": 22,
   "metadata": {},
   "outputs": [
    {
     "name": "stdout",
     "output_type": "stream",
     "text": [
      "5160/1 - 0s - loss: 0.4823\n"
     ]
    },
    {
     "data": {
      "text/plain": [
       "0.3944745316061863"
      ]
     },
     "execution_count": 22,
     "metadata": {},
     "output_type": "execute_result"
    }
   ],
   "source": [
    "model.evaluate(x_test_scaled,y_test,verbose=2)"
   ]
  },
  {
   "cell_type": "code",
   "execution_count": null,
   "metadata": {},
   "outputs": [],
   "source": []
  }
 ],
 "metadata": {
  "kernelspec": {
   "display_name": "Python [conda env:tf20]",
   "language": "python",
   "name": "conda-env-tf20-py"
  },
  "language_info": {
   "codemirror_mode": {
    "name": "ipython",
    "version": 3
   },
   "file_extension": ".py",
   "mimetype": "text/x-python",
   "name": "python",
   "nbconvert_exporter": "python",
   "pygments_lexer": "ipython3",
   "version": "3.7.4"
  }
 },
 "nbformat": 4,
 "nbformat_minor": 2
}
